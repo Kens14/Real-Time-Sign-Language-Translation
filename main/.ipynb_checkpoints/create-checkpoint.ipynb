{
 "cells": [
  {
   "cell_type": "markdown",
   "metadata": {},
   "source": [
    "# 1. Import and Install Dependencies"
   ]
  },
  {
   "cell_type": "code",
   "execution_count": null,
   "metadata": {},
   "outputs": [],
   "source": []
  },
  {
   "cell_type": "code",
   "execution_count": 25,
   "metadata": {
    "execution": {
     "iopub.execute_input": "2022-06-09T17:03:22.394Z",
     "iopub.status.busy": "2022-06-09T17:03:22.377Z",
     "iopub.status.idle": "2022-06-09T17:03:23.139Z",
     "shell.execute_reply": "2022-06-09T17:03:23.056Z"
    }
   },
   "outputs": [],
   "source": [
    "import cv2\n",
    "import numpy as np\n",
    "import os\n",
    "from matplotlib import pyplot as plt\n",
    "import time\n",
    "import mediapipe as mp\n",
    "import tensorflow"
   ]
  },
  {
   "cell_type": "markdown",
   "metadata": {},
   "source": [
    "# 2. Keypoints using MP Holistic"
   ]
  },
  {
   "cell_type": "code",
   "execution_count": 26,
   "metadata": {
    "execution": {
     "iopub.execute_input": "2022-06-09T17:03:23.177Z",
     "iopub.status.busy": "2022-06-09T17:03:23.163Z",
     "iopub.status.idle": "2022-06-09T17:03:23.192Z",
     "shell.execute_reply": "2022-06-09T17:03:23.066Z"
    }
   },
   "outputs": [],
   "source": [
    "mp_holistic =  mp.solutions.holistic # Holistic model\n",
    "mp_drawing = mp.solutions.drawing_utils # Drawing utilities"
   ]
  },
  {
   "cell_type": "code",
   "execution_count": 27,
   "metadata": {
    "execution": {
     "iopub.execute_input": "2022-06-09T17:03:23.232Z",
     "iopub.status.busy": "2022-06-09T17:03:23.214Z",
     "iopub.status.idle": "2022-06-09T17:03:23.250Z",
     "shell.execute_reply": "2022-06-09T17:03:23.082Z"
    }
   },
   "outputs": [],
   "source": [
    "def mediapipe_detection(image, model):\n",
    "    image = cv2.cvtColor(image, cv2.COLOR_BGR2RGB) # COLOR CONVERSION BGR 2 RGB\n",
    "    image.flags.writeable = False                  # Image is no longer writeable\n",
    "    results = model.process(image)                 # Make prediction\n",
    "    image.flags.writeable = True                   # Image is now writeable \n",
    "    image = cv2.cvtColor(image, cv2.COLOR_RGB2BGR) # COLOR COVERSION RGB 2 BGR\n",
    "    return image, results"
   ]
  },
  {
   "cell_type": "code",
   "execution_count": 28,
   "metadata": {
    "execution": {
     "iopub.execute_input": "2022-06-09T17:03:23.286Z",
     "iopub.status.busy": "2022-06-09T17:03:23.272Z",
     "iopub.status.idle": "2022-06-09T17:03:23.302Z",
     "shell.execute_reply": "2022-06-09T17:03:23.098Z"
    }
   },
   "outputs": [],
   "source": [
    "def draw_landmarks(image, results):\n",
    "    mp_drawing.draw_landmarks(image, results.face_landmarks, mp_holistic.FACEMESH_TESSELATION) # Draw face connections\n",
    "    mp_drawing.draw_landmarks(image, results.pose_landmarks, mp_holistic.POSE_CONNECTIONS) # Draw pose connections\n",
    "    mp_drawing.draw_landmarks(image, results.left_hand_landmarks, mp_holistic.HAND_CONNECTIONS) # Draw left hand connections\n",
    "    mp_drawing.draw_landmarks(image, results.right_hand_landmarks, mp_holistic.HAND_CONNECTIONS) # Draw right hand connections"
   ]
  },
  {
   "cell_type": "code",
   "execution_count": 29,
   "metadata": {
    "execution": {
     "iopub.execute_input": "2022-06-09T17:03:23.340Z",
     "iopub.status.busy": "2022-06-09T17:03:23.324Z",
     "iopub.status.idle": "2022-06-09T17:03:23.355Z",
     "shell.execute_reply": "2022-06-09T17:03:23.115Z"
    }
   },
   "outputs": [],
   "source": [
    "def draw_styled_landmarks(image, results):\n",
    "    # Draw face connections\n",
    "    mp_drawing.draw_landmarks(image, results.face_landmarks, mp_holistic.FACEMESH_TESSELATION, \n",
    "                             mp_drawing.DrawingSpec(color=(80,110,10), thickness=1, circle_radius=1), \n",
    "                             mp_drawing.DrawingSpec(color=(80,256,121), thickness=1, circle_radius=1)\n",
    "                             ) \n",
    "    # Draw pose connections\n",
    "    mp_drawing.draw_landmarks(image, results.pose_landmarks, mp_holistic.POSE_CONNECTIONS,\n",
    "                             mp_drawing.DrawingSpec(color=(80,22,10), thickness=2, circle_radius=4), \n",
    "                             mp_drawing.DrawingSpec(color=(80,44,121), thickness=2, circle_radius=2)\n",
    "                             ) \n",
    "    # Draw left hand connections\n",
    "    mp_drawing.draw_landmarks(image, results.left_hand_landmarks, mp_holistic.HAND_CONNECTIONS, \n",
    "                             mp_drawing.DrawingSpec(color=(121,22,76), thickness=2, circle_radius=4), \n",
    "                             mp_drawing.DrawingSpec(color=(121,44,250), thickness=2, circle_radius=2)\n",
    "                             ) \n",
    "    # Draw right hand connections  \n",
    "    mp_drawing.draw_landmarks(image, results.right_hand_landmarks, mp_holistic.HAND_CONNECTIONS, \n",
    "                             mp_drawing.DrawingSpec(color=(245,117,66), thickness=2, circle_radius=4), \n",
    "                             mp_drawing.DrawingSpec(color=(245,66,230), thickness=2, circle_radius=2)\n",
    "                             ) "
   ]
  },
  {
   "cell_type": "code",
   "execution_count": 30,
   "metadata": {},
   "outputs": [
    {
     "name": "stdout",
     "output_type": "stream",
     "text": [
      "<class 'mediapipe.python.solution_base.SolutionOutputs'>\n",
      "<class 'mediapipe.python.solution_base.SolutionOutputs'>\n",
      "<class 'mediapipe.python.solution_base.SolutionOutputs'>\n",
      "<class 'mediapipe.python.solution_base.SolutionOutputs'>\n",
      "<class 'mediapipe.python.solution_base.SolutionOutputs'>\n",
      "<class 'mediapipe.python.solution_base.SolutionOutputs'>\n",
      "<class 'mediapipe.python.solution_base.SolutionOutputs'>\n",
      "<class 'mediapipe.python.solution_base.SolutionOutputs'>\n",
      "<class 'mediapipe.python.solution_base.SolutionOutputs'>\n",
      "<class 'mediapipe.python.solution_base.SolutionOutputs'>\n",
      "<class 'mediapipe.python.solution_base.SolutionOutputs'>\n",
      "<class 'mediapipe.python.solution_base.SolutionOutputs'>\n",
      "<class 'mediapipe.python.solution_base.SolutionOutputs'>\n",
      "<class 'mediapipe.python.solution_base.SolutionOutputs'>\n",
      "<class 'mediapipe.python.solution_base.SolutionOutputs'>\n",
      "<class 'mediapipe.python.solution_base.SolutionOutputs'>\n",
      "<class 'mediapipe.python.solution_base.SolutionOutputs'>\n",
      "<class 'mediapipe.python.solution_base.SolutionOutputs'>\n",
      "<class 'mediapipe.python.solution_base.SolutionOutputs'>\n",
      "<class 'mediapipe.python.solution_base.SolutionOutputs'>\n",
      "<class 'mediapipe.python.solution_base.SolutionOutputs'>\n",
      "<class 'mediapipe.python.solution_base.SolutionOutputs'>\n",
      "<class 'mediapipe.python.solution_base.SolutionOutputs'>\n",
      "<class 'mediapipe.python.solution_base.SolutionOutputs'>\n",
      "<class 'mediapipe.python.solution_base.SolutionOutputs'>\n",
      "<class 'mediapipe.python.solution_base.SolutionOutputs'>\n",
      "<class 'mediapipe.python.solution_base.SolutionOutputs'>\n",
      "<class 'mediapipe.python.solution_base.SolutionOutputs'>\n",
      "<class 'mediapipe.python.solution_base.SolutionOutputs'>\n",
      "<class 'mediapipe.python.solution_base.SolutionOutputs'>\n",
      "<class 'mediapipe.python.solution_base.SolutionOutputs'>\n",
      "<class 'mediapipe.python.solution_base.SolutionOutputs'>\n",
      "<class 'mediapipe.python.solution_base.SolutionOutputs'>\n",
      "<class 'mediapipe.python.solution_base.SolutionOutputs'>\n",
      "<class 'mediapipe.python.solution_base.SolutionOutputs'>\n",
      "<class 'mediapipe.python.solution_base.SolutionOutputs'>\n",
      "<class 'mediapipe.python.solution_base.SolutionOutputs'>\n",
      "<class 'mediapipe.python.solution_base.SolutionOutputs'>\n",
      "<class 'mediapipe.python.solution_base.SolutionOutputs'>\n",
      "<class 'mediapipe.python.solution_base.SolutionOutputs'>\n",
      "<class 'mediapipe.python.solution_base.SolutionOutputs'>\n",
      "<class 'mediapipe.python.solution_base.SolutionOutputs'>\n",
      "<class 'mediapipe.python.solution_base.SolutionOutputs'>\n",
      "<class 'mediapipe.python.solution_base.SolutionOutputs'>\n",
      "<class 'mediapipe.python.solution_base.SolutionOutputs'>\n",
      "<class 'mediapipe.python.solution_base.SolutionOutputs'>\n",
      "<class 'mediapipe.python.solution_base.SolutionOutputs'>\n",
      "<class 'mediapipe.python.solution_base.SolutionOutputs'>\n",
      "<class 'mediapipe.python.solution_base.SolutionOutputs'>\n",
      "<class 'mediapipe.python.solution_base.SolutionOutputs'>\n",
      "<class 'mediapipe.python.solution_base.SolutionOutputs'>\n",
      "<class 'mediapipe.python.solution_base.SolutionOutputs'>\n",
      "<class 'mediapipe.python.solution_base.SolutionOutputs'>\n",
      "<class 'mediapipe.python.solution_base.SolutionOutputs'>\n",
      "<class 'mediapipe.python.solution_base.SolutionOutputs'>\n",
      "<class 'mediapipe.python.solution_base.SolutionOutputs'>\n",
      "<class 'mediapipe.python.solution_base.SolutionOutputs'>\n",
      "<class 'mediapipe.python.solution_base.SolutionOutputs'>\n",
      "<class 'mediapipe.python.solution_base.SolutionOutputs'>\n",
      "<class 'mediapipe.python.solution_base.SolutionOutputs'>\n",
      "<class 'mediapipe.python.solution_base.SolutionOutputs'>\n",
      "<class 'mediapipe.python.solution_base.SolutionOutputs'>\n",
      "<class 'mediapipe.python.solution_base.SolutionOutputs'>\n",
      "<class 'mediapipe.python.solution_base.SolutionOutputs'>\n",
      "<class 'mediapipe.python.solution_base.SolutionOutputs'>\n",
      "<class 'mediapipe.python.solution_base.SolutionOutputs'>\n",
      "<class 'mediapipe.python.solution_base.SolutionOutputs'>\n",
      "<class 'mediapipe.python.solution_base.SolutionOutputs'>\n",
      "<class 'mediapipe.python.solution_base.SolutionOutputs'>\n",
      "<class 'mediapipe.python.solution_base.SolutionOutputs'>\n",
      "<class 'mediapipe.python.solution_base.SolutionOutputs'>\n",
      "<class 'mediapipe.python.solution_base.SolutionOutputs'>\n",
      "<class 'mediapipe.python.solution_base.SolutionOutputs'>\n",
      "<class 'mediapipe.python.solution_base.SolutionOutputs'>\n",
      "<class 'mediapipe.python.solution_base.SolutionOutputs'>\n",
      "<class 'mediapipe.python.solution_base.SolutionOutputs'>\n",
      "<class 'mediapipe.python.solution_base.SolutionOutputs'>\n",
      "<class 'mediapipe.python.solution_base.SolutionOutputs'>\n",
      "<class 'mediapipe.python.solution_base.SolutionOutputs'>\n",
      "<class 'mediapipe.python.solution_base.SolutionOutputs'>\n",
      "<class 'mediapipe.python.solution_base.SolutionOutputs'>\n",
      "<class 'mediapipe.python.solution_base.SolutionOutputs'>\n",
      "<class 'mediapipe.python.solution_base.SolutionOutputs'>\n",
      "<class 'mediapipe.python.solution_base.SolutionOutputs'>\n",
      "<class 'mediapipe.python.solution_base.SolutionOutputs'>\n",
      "<class 'mediapipe.python.solution_base.SolutionOutputs'>\n",
      "<class 'mediapipe.python.solution_base.SolutionOutputs'>\n",
      "<class 'mediapipe.python.solution_base.SolutionOutputs'>\n",
      "<class 'mediapipe.python.solution_base.SolutionOutputs'>\n",
      "<class 'mediapipe.python.solution_base.SolutionOutputs'>\n",
      "<class 'mediapipe.python.solution_base.SolutionOutputs'>\n",
      "<class 'mediapipe.python.solution_base.SolutionOutputs'>\n",
      "<class 'mediapipe.python.solution_base.SolutionOutputs'>\n",
      "<class 'mediapipe.python.solution_base.SolutionOutputs'>\n",
      "<class 'mediapipe.python.solution_base.SolutionOutputs'>\n",
      "<class 'mediapipe.python.solution_base.SolutionOutputs'>\n",
      "<class 'mediapipe.python.solution_base.SolutionOutputs'>\n",
      "<class 'mediapipe.python.solution_base.SolutionOutputs'>\n",
      "<class 'mediapipe.python.solution_base.SolutionOutputs'>\n",
      "<class 'mediapipe.python.solution_base.SolutionOutputs'>\n",
      "<class 'mediapipe.python.solution_base.SolutionOutputs'>\n",
      "<class 'mediapipe.python.solution_base.SolutionOutputs'>\n",
      "<class 'mediapipe.python.solution_base.SolutionOutputs'>\n",
      "<class 'mediapipe.python.solution_base.SolutionOutputs'>\n",
      "<class 'mediapipe.python.solution_base.SolutionOutputs'>\n",
      "<class 'mediapipe.python.solution_base.SolutionOutputs'>\n",
      "<class 'mediapipe.python.solution_base.SolutionOutputs'>\n",
      "<class 'mediapipe.python.solution_base.SolutionOutputs'>\n",
      "<class 'mediapipe.python.solution_base.SolutionOutputs'>\n",
      "<class 'mediapipe.python.solution_base.SolutionOutputs'>\n",
      "<class 'mediapipe.python.solution_base.SolutionOutputs'>\n",
      "<class 'mediapipe.python.solution_base.SolutionOutputs'>\n",
      "<class 'mediapipe.python.solution_base.SolutionOutputs'>\n",
      "<class 'mediapipe.python.solution_base.SolutionOutputs'>\n"
     ]
    }
   ],
   "source": [
    "cap = cv2.VideoCapture(0)\n",
    "# Set mediapipe model \n",
    "with mp_holistic.Holistic(min_detection_confidence=0.5, min_tracking_confidence=0.5) as holistic:\n",
    "    while cap.isOpened():\n",
    "\n",
    "        # Read feed\n",
    "        \n",
    "        ret, frame = cap.read()\n",
    "\n",
    "        # Make detections\n",
    "        image, results = mediapipe_detection(frame, holistic)\n",
    "        print(results)\n",
    "        \n",
    "        # Draw landmarks\n",
    "        draw_styled_landmarks(image, results)\n",
    "        cv2.putText(image, 'Raise your left hand for intialisation & press q',(60,12), cv2.FONT_HERSHEY_SIMPLEX, 0.5, (0, 0, 255), 1, cv2.LINE_AA)\n",
    "        #resizing the cv feed\n",
    "        cv2.namedWindow(\"Resize\", cv2.WINDOW_NORMAL)\n",
    "        cv2.resizeWindow(\"Resize\", 1280, 720)\n",
    "        \n",
    "        # Show to screen   \n",
    "        cv2.imshow('Resize', image)\n",
    "\n",
    "        # Break gracefully\n",
    "        if cv2.waitKey(10) & 0xFF == ord('q'):\n",
    "            break\n",
    "    cap.release()\n",
    "    cv2.destroyAllWindows()"
   ]
  },
  {
   "cell_type": "code",
   "execution_count": 31,
   "metadata": {},
   "outputs": [],
   "source": [
    "draw_landmarks(frame, results)"
   ]
  },
  {
   "cell_type": "code",
   "execution_count": 32,
   "metadata": {},
   "outputs": [
    {
     "data": {
      "text/plain": [
       "21"
      ]
     },
     "execution_count": 32,
     "metadata": {},
     "output_type": "execute_result"
    }
   ],
   "source": [
    "len(results.left_hand_landmarks.landmark)"
   ]
  },
  {
   "cell_type": "code",
   "execution_count": null,
   "metadata": {
    "execution": {
     "iopub.execute_input": "2022-06-09T17:03:45.989Z",
     "iopub.status.busy": "2022-06-09T17:03:45.973Z",
     "iopub.status.idle": "2022-06-09T17:03:46.010Z",
     "shell.execute_reply": "2022-06-09T17:03:46.023Z"
    }
   },
   "outputs": [],
   "source": []
  },
  {
   "cell_type": "code",
   "execution_count": null,
   "metadata": {
    "execution": {
     "iopub.execute_input": "2022-06-09T17:03:46.446Z",
     "iopub.status.busy": "2022-06-09T17:03:46.432Z",
     "iopub.status.idle": "2022-06-09T17:03:46.466Z",
     "shell.execute_reply": "2022-06-09T17:03:46.479Z"
    }
   },
   "outputs": [],
   "source": []
  },
  {
   "cell_type": "code",
   "execution_count": 34,
   "metadata": {
    "execution": {
     "iopub.execute_input": "2022-06-09T17:03:47.276Z",
     "iopub.status.busy": "2022-06-09T17:03:47.261Z",
     "iopub.status.idle": "2022-06-09T17:03:47.302Z",
     "shell.execute_reply": "2022-06-09T17:03:47.316Z"
    }
   },
   "outputs": [],
   "source": [
    "def extract_keypoints(results):\n",
    "    pose = np.array([[res.x, res.y, res.z, res.visibility] for res in results.pose_landmarks.landmark]).flatten() if results.pose_landmarks else np.zeros(33*4)\n",
    "    face = np.array([[res.x, res.y, res.z] for res in results.face_landmarks.landmark]).flatten() if results.face_landmarks else np.zeros(468*3)\n",
    "    lh = np.array([[res.x, res.y, res.z] for res in results.left_hand_landmarks.landmark]).flatten() if results.left_hand_landmarks else np.zeros(21*3)\n",
    "    rh = np.array([[res.x, res.y, res.z] for res in results.right_hand_landmarks.landmark]).flatten() if results.right_hand_landmarks else np.zeros(21*3)\n",
    "    return np.concatenate([pose, face, lh, rh])"
   ]
  },
  {
   "cell_type": "code",
   "execution_count": null,
   "metadata": {
    "execution": {
     "iopub.execute_input": "2022-06-09T17:03:53.468Z",
     "iopub.status.busy": "2022-06-09T17:03:53.454Z",
     "iopub.status.idle": "2022-06-09T17:03:53.495Z",
     "shell.execute_reply": "2022-06-09T17:03:53.508Z"
    }
   },
   "outputs": [],
   "source": []
  },
  {
   "cell_type": "markdown",
   "metadata": {},
   "source": [
    "# 4. Setup Folders for Collection"
   ]
  },
  {
   "cell_type": "code",
   "execution_count": 40,
   "metadata": {},
   "outputs": [
    {
     "name": "stdout",
     "output_type": "stream",
     "text": [
      "What would you like to name the model? lazypunch\n"
     ]
    }
   ],
   "source": [
    "model_to_save=input(\"What would you like to name the model? \")"
   ]
  },
  {
   "cell_type": "code",
   "execution_count": 81,
   "metadata": {
    "execution": {
     "iopub.execute_input": "2022-06-09T17:04:00.916Z",
     "iopub.status.busy": "2022-06-09T17:04:00.899Z",
     "iopub.status.idle": "2022-06-09T17:04:00.938Z",
     "shell.execute_reply": "2022-06-09T17:04:00.953Z"
    },
    "scrolled": true
   },
   "outputs": [],
   "source": [
    "DATA_PATH = os.path.join('../MP_Data/Phrases') \n",
    "\n",
    " # Thirty videos worth of data\n",
    "no_sequences = 30\n",
    " # Videos are going to be 60 frames in length\n",
    "sequence_length = 30\n",
    "actions_new = np.array([])\n",
    "\n",
    "def create():\n",
    "    # Path for exported data, numpy arrays\n",
    " \n",
    "\n",
    "    # Actions that we try to detect\n",
    "    #demo data1'Emergency','Hello','Fine','wait'\n",
    "    #demo data2 'deaf','finish','help','good morning'\n",
    "\n",
    "\n",
    "\n",
    "    n = int(input(\"Enter number of actions < 8 : \"))\n",
    "    for i in range(0, n):\n",
    "        ele = (input(\"Name of the signs: \"))\n",
    "        #appending to the names file\n",
    "        # Filename to write\n",
    "        filename = model_to_save + \".names\"\n",
    "\n",
    "        # Open the file with writing permission\n",
    "        myfile = open(filename, 'a')\n",
    "\n",
    "        # Write a line to the file\n",
    "        myfile.write(ele+\"\\n\")\n",
    "\n",
    "        # Close the file\n",
    "        myfile.close()\n",
    "        \n",
    "    for sequence in range(no_sequences):\n",
    "        try: \n",
    "            os.makedirs(os.path.join(DATA_PATH, ele, str(sequence)))\n",
    "        except:\n",
    "            pass\n",
    "\n",
    "    \n",
    "    cap = cv2.VideoCapture(0)\n",
    "    # Set mediapipe model \n",
    "    with mp_holistic.Holistic( min_detection_confidence=0.5, min_tracking_confidence=0.5) as holistic:\n",
    "\n",
    "    # NEW LOOP\n",
    "    # Loop through actions\n",
    "        # Loop through sequences aka videos\n",
    "        for sequence in range(no_sequences):\n",
    "            # Loop through video length aka sequence length\n",
    "            for frame_num in range(sequence_length):\n",
    "\n",
    "                # Read feed\n",
    "                ret, frame = cap.read()\n",
    "\n",
    "                # Make detections\n",
    "                image, results = mediapipe_detection(frame, holistic)\n",
    "                print(results)\n",
    "\n",
    "                # Draw landmarks\n",
    "                draw_styled_landmarks(image, results)\n",
    "\n",
    "                # NEW Apply wait logic\n",
    "                if frame_num == 0: \n",
    "                    cv2.putText(image, 'STARTING COLLECTION', (120,200), cv2.FONT_HERSHEY_SIMPLEX, 1, (0,255, 0), 4, cv2.LINE_AA)\n",
    "                    cv2.putText(image, 'Collecting frames for {} Video Number {}'.format(ele, sequence), (60,12), cv2.FONT_HERSHEY_SIMPLEX, 0.5, (0, 0, 255), 1, cv2.LINE_AA)\n",
    "                    # Show to screen\n",
    "                    cv2.imshow('OpenCV Feed', image)\n",
    "                    cv2.waitKey(1000)\n",
    "                    #### time.sleep(2)\n",
    "                else: \n",
    "                    cv2.putText(image, 'Collecting frames for {} Video Number {}'.format(ele, sequence),(60,12), cv2.FONT_HERSHEY_SIMPLEX, 0.5, (0, 0, 255), 1, cv2.LINE_AA)\n",
    "                    cv2.namedWindow(\"Resize\", cv2.WINDOW_NORMAL)\n",
    "                    cv2.resizeWindow(\"Resize\", 1280, 720)\n",
    "\n",
    "                # NEW Export keypoints\n",
    "                keypoints = extract_keypoints(results)\n",
    "                npy_path = os.path.join(DATA_PATH, ele, str(sequence), str(frame_num))\n",
    "                np.save(npy_path, keypoints)\n",
    "\n",
    "                # Break gracefully\n",
    "                if cv2.waitKey(10) & 0xFF == ord('q'):\n",
    "                    break\n",
    "\n",
    "    cap.release()\n",
    "    cv2.destroyAllWindows()\n",
    "    global actions_new \n",
    "    actions_new = np.append(actions_new,ele)\n",
    "      \n",
    "        \n",
    "    answer = input(\"Do you want to add more signs? (Y/N): \") \n",
    "    if answer == \"Y\" or answer == \"y\": \n",
    "        create()      \n",
    "    elif  answer == \"N\" or answer == \"n\": \n",
    "        pass\n",
    "\n",
    "    else:\n",
    "        print(\"fuckoff\")\n",
    "        \n"
   ]
  },
  {
   "cell_type": "code",
   "execution_count": null,
   "metadata": {},
   "outputs": [],
   "source": [
    "\n"
   ]
  },
  {
   "cell_type": "markdown",
   "metadata": {},
   "source": [
    "# 5. Collect Keypoint Values for Training and Testing"
   ]
  },
  {
   "cell_type": "code",
   "execution_count": 82,
   "metadata": {
    "execution": {
     "iopub.execute_input": "2022-03-28T14:22:58.461Z",
     "iopub.status.busy": "2022-03-28T14:22:58.445Z",
     "iopub.status.idle": "2022-03-28T14:25:22.183Z",
     "shell.execute_reply": "2022-03-28T14:25:22.163Z"
    }
   },
   "outputs": [
    {
     "name": "stdout",
     "output_type": "stream",
     "text": [
      "Enter number of actions < 8 : 1\n",
      "Name of the signs: punch\n",
      "<class 'mediapipe.python.solution_base.SolutionOutputs'>\n",
      "<class 'mediapipe.python.solution_base.SolutionOutputs'>\n",
      "<class 'mediapipe.python.solution_base.SolutionOutputs'>\n",
      "<class 'mediapipe.python.solution_base.SolutionOutputs'>\n",
      "<class 'mediapipe.python.solution_base.SolutionOutputs'>\n",
      "<class 'mediapipe.python.solution_base.SolutionOutputs'>\n",
      "<class 'mediapipe.python.solution_base.SolutionOutputs'>\n",
      "<class 'mediapipe.python.solution_base.SolutionOutputs'>\n",
      "<class 'mediapipe.python.solution_base.SolutionOutputs'>\n",
      "<class 'mediapipe.python.solution_base.SolutionOutputs'>\n",
      "<class 'mediapipe.python.solution_base.SolutionOutputs'>\n",
      "<class 'mediapipe.python.solution_base.SolutionOutputs'>\n",
      "<class 'mediapipe.python.solution_base.SolutionOutputs'>\n",
      "<class 'mediapipe.python.solution_base.SolutionOutputs'>\n",
      "<class 'mediapipe.python.solution_base.SolutionOutputs'>\n",
      "<class 'mediapipe.python.solution_base.SolutionOutputs'>\n",
      "<class 'mediapipe.python.solution_base.SolutionOutputs'>\n",
      "<class 'mediapipe.python.solution_base.SolutionOutputs'>\n",
      "<class 'mediapipe.python.solution_base.SolutionOutputs'>\n",
      "<class 'mediapipe.python.solution_base.SolutionOutputs'>\n",
      "<class 'mediapipe.python.solution_base.SolutionOutputs'>\n",
      "<class 'mediapipe.python.solution_base.SolutionOutputs'>\n",
      "<class 'mediapipe.python.solution_base.SolutionOutputs'>\n",
      "<class 'mediapipe.python.solution_base.SolutionOutputs'>\n",
      "<class 'mediapipe.python.solution_base.SolutionOutputs'>\n",
      "<class 'mediapipe.python.solution_base.SolutionOutputs'>\n",
      "<class 'mediapipe.python.solution_base.SolutionOutputs'>\n",
      "<class 'mediapipe.python.solution_base.SolutionOutputs'>\n",
      "<class 'mediapipe.python.solution_base.SolutionOutputs'>\n",
      "<class 'mediapipe.python.solution_base.SolutionOutputs'>\n",
      "<class 'mediapipe.python.solution_base.SolutionOutputs'>\n",
      "<class 'mediapipe.python.solution_base.SolutionOutputs'>\n",
      "<class 'mediapipe.python.solution_base.SolutionOutputs'>\n",
      "<class 'mediapipe.python.solution_base.SolutionOutputs'>\n",
      "<class 'mediapipe.python.solution_base.SolutionOutputs'>\n",
      "<class 'mediapipe.python.solution_base.SolutionOutputs'>\n",
      "<class 'mediapipe.python.solution_base.SolutionOutputs'>\n",
      "<class 'mediapipe.python.solution_base.SolutionOutputs'>\n",
      "<class 'mediapipe.python.solution_base.SolutionOutputs'>\n",
      "<class 'mediapipe.python.solution_base.SolutionOutputs'>\n",
      "<class 'mediapipe.python.solution_base.SolutionOutputs'>\n",
      "<class 'mediapipe.python.solution_base.SolutionOutputs'>\n",
      "<class 'mediapipe.python.solution_base.SolutionOutputs'>\n",
      "<class 'mediapipe.python.solution_base.SolutionOutputs'>\n",
      "<class 'mediapipe.python.solution_base.SolutionOutputs'>\n",
      "<class 'mediapipe.python.solution_base.SolutionOutputs'>\n",
      "<class 'mediapipe.python.solution_base.SolutionOutputs'>\n",
      "<class 'mediapipe.python.solution_base.SolutionOutputs'>\n",
      "<class 'mediapipe.python.solution_base.SolutionOutputs'>\n",
      "<class 'mediapipe.python.solution_base.SolutionOutputs'>\n",
      "<class 'mediapipe.python.solution_base.SolutionOutputs'>\n",
      "<class 'mediapipe.python.solution_base.SolutionOutputs'>\n",
      "<class 'mediapipe.python.solution_base.SolutionOutputs'>\n",
      "<class 'mediapipe.python.solution_base.SolutionOutputs'>\n",
      "<class 'mediapipe.python.solution_base.SolutionOutputs'>\n",
      "<class 'mediapipe.python.solution_base.SolutionOutputs'>\n",
      "<class 'mediapipe.python.solution_base.SolutionOutputs'>\n",
      "<class 'mediapipe.python.solution_base.SolutionOutputs'>\n",
      "<class 'mediapipe.python.solution_base.SolutionOutputs'>\n",
      "<class 'mediapipe.python.solution_base.SolutionOutputs'>\n",
      "Do you want to add more signs? (Y/N): Y\n",
      "Enter number of actions < 8 : 1\n",
      "Name of the signs: lazy\n",
      "<class 'mediapipe.python.solution_base.SolutionOutputs'>\n",
      "<class 'mediapipe.python.solution_base.SolutionOutputs'>\n",
      "<class 'mediapipe.python.solution_base.SolutionOutputs'>\n",
      "<class 'mediapipe.python.solution_base.SolutionOutputs'>\n",
      "<class 'mediapipe.python.solution_base.SolutionOutputs'>\n",
      "<class 'mediapipe.python.solution_base.SolutionOutputs'>\n",
      "<class 'mediapipe.python.solution_base.SolutionOutputs'>\n",
      "<class 'mediapipe.python.solution_base.SolutionOutputs'>\n",
      "<class 'mediapipe.python.solution_base.SolutionOutputs'>\n",
      "<class 'mediapipe.python.solution_base.SolutionOutputs'>\n",
      "<class 'mediapipe.python.solution_base.SolutionOutputs'>\n",
      "<class 'mediapipe.python.solution_base.SolutionOutputs'>\n",
      "<class 'mediapipe.python.solution_base.SolutionOutputs'>\n",
      "<class 'mediapipe.python.solution_base.SolutionOutputs'>\n",
      "<class 'mediapipe.python.solution_base.SolutionOutputs'>\n",
      "<class 'mediapipe.python.solution_base.SolutionOutputs'>\n",
      "<class 'mediapipe.python.solution_base.SolutionOutputs'>\n",
      "<class 'mediapipe.python.solution_base.SolutionOutputs'>\n",
      "<class 'mediapipe.python.solution_base.SolutionOutputs'>\n",
      "<class 'mediapipe.python.solution_base.SolutionOutputs'>\n",
      "<class 'mediapipe.python.solution_base.SolutionOutputs'>\n",
      "<class 'mediapipe.python.solution_base.SolutionOutputs'>\n",
      "<class 'mediapipe.python.solution_base.SolutionOutputs'>\n",
      "<class 'mediapipe.python.solution_base.SolutionOutputs'>\n",
      "<class 'mediapipe.python.solution_base.SolutionOutputs'>\n",
      "<class 'mediapipe.python.solution_base.SolutionOutputs'>\n",
      "<class 'mediapipe.python.solution_base.SolutionOutputs'>\n",
      "<class 'mediapipe.python.solution_base.SolutionOutputs'>\n",
      "<class 'mediapipe.python.solution_base.SolutionOutputs'>\n",
      "<class 'mediapipe.python.solution_base.SolutionOutputs'>\n",
      "<class 'mediapipe.python.solution_base.SolutionOutputs'>\n",
      "<class 'mediapipe.python.solution_base.SolutionOutputs'>\n",
      "<class 'mediapipe.python.solution_base.SolutionOutputs'>\n",
      "<class 'mediapipe.python.solution_base.SolutionOutputs'>\n",
      "<class 'mediapipe.python.solution_base.SolutionOutputs'>\n",
      "<class 'mediapipe.python.solution_base.SolutionOutputs'>\n",
      "<class 'mediapipe.python.solution_base.SolutionOutputs'>\n",
      "<class 'mediapipe.python.solution_base.SolutionOutputs'>\n",
      "<class 'mediapipe.python.solution_base.SolutionOutputs'>\n",
      "<class 'mediapipe.python.solution_base.SolutionOutputs'>\n",
      "<class 'mediapipe.python.solution_base.SolutionOutputs'>\n",
      "<class 'mediapipe.python.solution_base.SolutionOutputs'>\n",
      "<class 'mediapipe.python.solution_base.SolutionOutputs'>\n",
      "<class 'mediapipe.python.solution_base.SolutionOutputs'>\n",
      "<class 'mediapipe.python.solution_base.SolutionOutputs'>\n",
      "<class 'mediapipe.python.solution_base.SolutionOutputs'>\n",
      "<class 'mediapipe.python.solution_base.SolutionOutputs'>\n",
      "<class 'mediapipe.python.solution_base.SolutionOutputs'>\n",
      "<class 'mediapipe.python.solution_base.SolutionOutputs'>\n",
      "<class 'mediapipe.python.solution_base.SolutionOutputs'>\n",
      "<class 'mediapipe.python.solution_base.SolutionOutputs'>\n",
      "<class 'mediapipe.python.solution_base.SolutionOutputs'>\n",
      "<class 'mediapipe.python.solution_base.SolutionOutputs'>\n",
      "<class 'mediapipe.python.solution_base.SolutionOutputs'>\n",
      "<class 'mediapipe.python.solution_base.SolutionOutputs'>\n",
      "<class 'mediapipe.python.solution_base.SolutionOutputs'>\n",
      "<class 'mediapipe.python.solution_base.SolutionOutputs'>\n",
      "<class 'mediapipe.python.solution_base.SolutionOutputs'>\n",
      "<class 'mediapipe.python.solution_base.SolutionOutputs'>\n",
      "<class 'mediapipe.python.solution_base.SolutionOutputs'>\n",
      "<class 'mediapipe.python.solution_base.SolutionOutputs'>\n",
      "<class 'mediapipe.python.solution_base.SolutionOutputs'>\n",
      "<class 'mediapipe.python.solution_base.SolutionOutputs'>\n",
      "<class 'mediapipe.python.solution_base.SolutionOutputs'>\n",
      "<class 'mediapipe.python.solution_base.SolutionOutputs'>\n",
      "<class 'mediapipe.python.solution_base.SolutionOutputs'>\n",
      "<class 'mediapipe.python.solution_base.SolutionOutputs'>\n",
      "<class 'mediapipe.python.solution_base.SolutionOutputs'>\n",
      "<class 'mediapipe.python.solution_base.SolutionOutputs'>\n",
      "<class 'mediapipe.python.solution_base.SolutionOutputs'>\n",
      "<class 'mediapipe.python.solution_base.SolutionOutputs'>\n",
      "Do you want to add more signs? (Y/N): N\n"
     ]
    }
   ],
   "source": [
    "create()"
   ]
  },
  {
   "cell_type": "code",
   "execution_count": null,
   "metadata": {},
   "outputs": [],
   "source": []
  },
  {
   "cell_type": "code",
   "execution_count": null,
   "metadata": {},
   "outputs": [],
   "source": []
  },
  {
   "cell_type": "markdown",
   "metadata": {
    "nteract": {
     "transient": {
      "deleting": false
     }
    }
   },
   "source": [
    "## 6. Preprocess Data and Create Labels and Features"
   ]
  },
  {
   "cell_type": "code",
   "execution_count": 83,
   "metadata": {
    "execution": {
     "iopub.execute_input": "2022-06-09T17:04:07.203Z",
     "iopub.status.busy": "2022-06-09T17:04:07.187Z",
     "iopub.status.idle": "2022-06-09T17:04:09.160Z",
     "shell.execute_reply": "2022-06-09T17:04:09.414Z"
    },
    "jupyter": {
     "outputs_hidden": false,
     "source_hidden": false
    },
    "nteract": {
     "transient": {
      "deleting": false
     }
    }
   },
   "outputs": [],
   "source": [
    "from sklearn.model_selection import train_test_split\n",
    "from tensorflow.keras.utils import to_categorical\n"
   ]
  },
  {
   "cell_type": "code",
   "execution_count": 84,
   "metadata": {
    "execution": {
     "iopub.execute_input": "2022-06-09T17:04:09.202Z",
     "iopub.status.busy": "2022-06-09T17:04:09.185Z",
     "iopub.status.idle": "2022-06-09T17:04:09.226Z",
     "shell.execute_reply": "2022-06-09T17:04:09.424Z"
    },
    "jupyter": {
     "outputs_hidden": false,
     "source_hidden": false
    },
    "nteract": {
     "transient": {
      "deleting": false
     }
    }
   },
   "outputs": [],
   "source": [
    "label_map = {label:num for num, label in enumerate(actions_new)}"
   ]
  },
  {
   "cell_type": "code",
   "execution_count": 85,
   "metadata": {
    "execution": {
     "iopub.execute_input": "2022-06-09T17:04:09.272Z",
     "iopub.status.busy": "2022-06-09T17:04:09.257Z",
     "iopub.status.idle": "2022-06-09T17:04:09.304Z",
     "shell.execute_reply": "2022-06-09T17:04:09.433Z"
    },
    "jupyter": {
     "outputs_hidden": false,
     "source_hidden": false
    },
    "nteract": {
     "transient": {
      "deleting": false
     }
    }
   },
   "outputs": [
    {
     "data": {
      "text/plain": [
       "{'punch': 0, 'lazy': 1}"
      ]
     },
     "execution_count": 85,
     "metadata": {},
     "output_type": "execute_result"
    }
   ],
   "source": [
    "label_map"
   ]
  },
  {
   "cell_type": "code",
   "execution_count": 86,
   "metadata": {
    "execution": {
     "iopub.execute_input": "2022-06-09T17:04:09.345Z",
     "iopub.status.busy": "2022-06-09T17:04:09.329Z",
     "iopub.status.idle": "2022-06-09T17:04:10.263Z",
     "shell.execute_reply": "2022-06-09T17:04:10.238Z"
    },
    "jupyter": {
     "outputs_hidden": false,
     "source_hidden": false
    },
    "nteract": {
     "transient": {
      "deleting": false
     }
    }
   },
   "outputs": [],
   "source": [
    "sequences= []\n",
    "labels = []\n",
    "for action in actions_new:\n",
    "    for sequence in np.array(os.listdir(os.path.join(DATA_PATH, action))).astype(int):\n",
    "        window = []\n",
    "        for frame_num in range(sequence_length):\n",
    "            res = np.load(os.path.join(DATA_PATH, action, str(sequence), \"{}.npy\".format(frame_num)))\n",
    "            window.append(res)\n",
    "        sequences.append(window)\n",
    "        labels.append(label_map[action])"
   ]
  },
  {
   "cell_type": "code",
   "execution_count": 87,
   "metadata": {
    "execution": {
     "iopub.execute_input": "2022-06-09T17:04:10.301Z",
     "iopub.status.busy": "2022-06-09T17:04:10.287Z",
     "iopub.status.idle": "2022-06-09T17:04:10.331Z",
     "shell.execute_reply": "2022-06-09T17:04:10.363Z"
    },
    "jupyter": {
     "outputs_hidden": false,
     "source_hidden": false
    },
    "nteract": {
     "transient": {
      "deleting": false
     }
    }
   },
   "outputs": [
    {
     "data": {
      "text/plain": [
       "(60, 30, 1662)"
      ]
     },
     "execution_count": 87,
     "metadata": {},
     "output_type": "execute_result"
    }
   ],
   "source": [
    "np.array(sequences).shape"
   ]
  },
  {
   "cell_type": "code",
   "execution_count": 88,
   "metadata": {
    "execution": {
     "iopub.execute_input": "2022-06-09T17:04:12.354Z",
     "iopub.status.busy": "2022-06-09T17:04:12.339Z",
     "iopub.status.idle": "2022-06-09T17:04:12.381Z",
     "shell.execute_reply": "2022-06-09T17:04:12.394Z"
    },
    "jupyter": {
     "outputs_hidden": false,
     "source_hidden": false
    },
    "nteract": {
     "transient": {
      "deleting": false
     }
    }
   },
   "outputs": [
    {
     "data": {
      "text/plain": [
       "(60,)"
      ]
     },
     "execution_count": 88,
     "metadata": {},
     "output_type": "execute_result"
    }
   ],
   "source": [
    "np.array(labels).shape"
   ]
  },
  {
   "cell_type": "code",
   "execution_count": 89,
   "metadata": {
    "execution": {
     "iopub.execute_input": "2022-06-09T17:04:12.890Z",
     "iopub.status.busy": "2022-06-09T17:04:12.875Z",
     "iopub.status.idle": "2022-06-09T17:04:12.912Z",
     "shell.execute_reply": "2022-06-09T17:04:12.926Z"
    },
    "jupyter": {
     "outputs_hidden": false,
     "source_hidden": false
    },
    "nteract": {
     "transient": {
      "deleting": false
     }
    }
   },
   "outputs": [],
   "source": [
    "X = np.array(sequences)"
   ]
  },
  {
   "cell_type": "code",
   "execution_count": 90,
   "metadata": {
    "execution": {
     "iopub.execute_input": "2022-06-09T17:04:13.572Z",
     "iopub.status.busy": "2022-06-09T17:04:13.555Z",
     "iopub.status.idle": "2022-06-09T17:04:13.604Z",
     "shell.execute_reply": "2022-06-09T17:04:13.618Z"
    },
    "jupyter": {
     "outputs_hidden": false,
     "source_hidden": false
    },
    "nteract": {
     "transient": {
      "deleting": false
     }
    }
   },
   "outputs": [
    {
     "data": {
      "text/plain": [
       "(60, 30, 1662)"
      ]
     },
     "execution_count": 90,
     "metadata": {},
     "output_type": "execute_result"
    }
   ],
   "source": [
    "X.shape"
   ]
  },
  {
   "cell_type": "code",
   "execution_count": 91,
   "metadata": {
    "execution": {
     "iopub.execute_input": "2022-06-09T17:04:14.181Z",
     "iopub.status.busy": "2022-06-09T17:04:14.164Z",
     "iopub.status.idle": "2022-06-09T17:04:14.203Z",
     "shell.execute_reply": "2022-06-09T17:04:14.216Z"
    },
    "jupyter": {
     "outputs_hidden": false,
     "source_hidden": false
    },
    "nteract": {
     "transient": {
      "deleting": false
     }
    }
   },
   "outputs": [],
   "source": [
    "y = to_categorical(labels).astype(int)"
   ]
  },
  {
   "cell_type": "code",
   "execution_count": 92,
   "metadata": {
    "execution": {
     "iopub.execute_input": "2022-06-09T17:04:14.664Z",
     "iopub.status.busy": "2022-06-09T17:04:14.649Z",
     "iopub.status.idle": "2022-06-09T17:04:14.686Z",
     "shell.execute_reply": "2022-06-09T17:04:14.699Z"
    },
    "jupyter": {
     "outputs_hidden": false,
     "source_hidden": false
    },
    "nteract": {
     "transient": {
      "deleting": false
     }
    }
   },
   "outputs": [],
   "source": [
    "X_train, X_test, y_train, y_test = train_test_split(X, y, test_size=0.05)"
   ]
  },
  {
   "cell_type": "code",
   "execution_count": 93,
   "metadata": {
    "execution": {
     "iopub.execute_input": "2022-06-09T17:04:15.080Z",
     "iopub.status.busy": "2022-06-09T17:04:15.065Z",
     "iopub.status.idle": "2022-06-09T17:04:15.109Z",
     "shell.execute_reply": "2022-06-09T17:04:15.123Z"
    },
    "jupyter": {
     "outputs_hidden": false,
     "source_hidden": false
    },
    "nteract": {
     "transient": {
      "deleting": false
     }
    },
    "scrolled": true
   },
   "outputs": [
    {
     "data": {
      "text/plain": [
       "(3, 2)"
      ]
     },
     "execution_count": 93,
     "metadata": {},
     "output_type": "execute_result"
    }
   ],
   "source": [
    "y_test.shape"
   ]
  },
  {
   "cell_type": "markdown",
   "metadata": {
    "nteract": {
     "transient": {
      "deleting": false
     }
    }
   },
   "source": [
    "\n",
    "## 7. Build and Train LSTM Neural Network"
   ]
  },
  {
   "cell_type": "code",
   "execution_count": 94,
   "metadata": {
    "execution": {
     "iopub.execute_input": "2022-06-09T17:04:16.236Z",
     "iopub.status.busy": "2022-06-09T17:04:16.221Z",
     "iopub.status.idle": "2022-06-09T17:04:16.260Z",
     "shell.execute_reply": "2022-06-09T17:04:16.274Z"
    },
    "jupyter": {
     "outputs_hidden": false,
     "source_hidden": false
    },
    "nteract": {
     "transient": {
      "deleting": false
     }
    }
   },
   "outputs": [],
   "source": [
    "from tensorflow.keras.models import Sequential\n",
    "from tensorflow.keras.layers import LSTM, Dense\n",
    "from tensorflow.keras.callbacks import TensorBoard"
   ]
  },
  {
   "cell_type": "code",
   "execution_count": 95,
   "metadata": {
    "execution": {
     "iopub.execute_input": "2022-06-09T17:04:17.095Z",
     "iopub.status.busy": "2022-06-09T17:04:17.080Z",
     "iopub.status.idle": "2022-06-09T17:04:17.119Z",
     "shell.execute_reply": "2022-06-09T17:04:17.133Z"
    },
    "jupyter": {
     "outputs_hidden": false,
     "source_hidden": false
    },
    "nteract": {
     "transient": {
      "deleting": false
     }
    }
   },
   "outputs": [],
   "source": [
    "log_dir = os.path.join('Logs')\n",
    "tb_callback = TensorBoard(log_dir=log_dir)"
   ]
  },
  {
   "cell_type": "code",
   "execution_count": 96,
   "metadata": {
    "execution": {
     "iopub.execute_input": "2022-06-09T17:04:17.764Z",
     "iopub.status.busy": "2022-06-09T17:04:17.747Z",
     "iopub.status.idle": "2022-06-09T17:04:17.863Z",
     "shell.execute_reply": "2022-06-09T17:04:17.884Z"
    },
    "jupyter": {
     "outputs_hidden": false,
     "source_hidden": false
    },
    "nteract": {
     "transient": {
      "deleting": false
     }
    }
   },
   "outputs": [],
   "source": [
    "model = Sequential()\n",
    "model.add(LSTM(64, return_sequences=True, activation='tanh', input_shape=(30,1662)))\n",
    "model.add(LSTM(128, return_sequences=True, activation='tanh'))\n",
    "model.add(LSTM(64, return_sequences=False, activation='tanh'))\n",
    "model.add(Dense(64, activation='tanh'))\n",
    "model.add(Dense(32, activation='tanh'))\n",
    "model.add(Dense(actions_new.shape[0], activation='softmax')) "
   ]
  },
  {
   "cell_type": "code",
   "execution_count": null,
   "metadata": {},
   "outputs": [],
   "source": []
  },
  {
   "cell_type": "code",
   "execution_count": 97,
   "metadata": {
    "execution": {
     "iopub.execute_input": "2022-06-09T17:04:19.514Z",
     "iopub.status.busy": "2022-06-09T17:04:19.497Z",
     "iopub.status.idle": "2022-06-09T17:04:19.536Z",
     "shell.execute_reply": "2022-06-09T17:04:19.550Z"
    },
    "jupyter": {
     "outputs_hidden": false,
     "source_hidden": false
    },
    "nteract": {
     "transient": {
      "deleting": false
     }
    }
   },
   "outputs": [],
   "source": [
    "model.compile(optimizer='Adam', loss='categorical_crossentropy', metrics=['categorical_accuracy'])"
   ]
  },
  {
   "cell_type": "code",
   "execution_count": 98,
   "metadata": {
    "jupyter": {
     "outputs_hidden": false,
     "source_hidden": false
    },
    "nteract": {
     "transient": {
      "deleting": false
     }
    },
    "scrolled": false
   },
   "outputs": [
    {
     "name": "stdout",
     "output_type": "stream",
     "text": [
      "Epoch 1/100\n",
      "2/2 [==============================] - 5s 53ms/step - loss: 1.0118 - categorical_accuracy: 0.4035\n",
      "Epoch 2/100\n",
      "2/2 [==============================] - 0s 46ms/step - loss: 0.8115 - categorical_accuracy: 0.3509\n",
      "Epoch 3/100\n",
      "2/2 [==============================] - 0s 48ms/step - loss: 0.7097 - categorical_accuracy: 0.4912\n",
      "Epoch 4/100\n",
      "2/2 [==============================] - 0s 46ms/step - loss: 0.6955 - categorical_accuracy: 0.4912\n",
      "Epoch 5/100\n",
      "2/2 [==============================] - 0s 53ms/step - loss: 0.6972 - categorical_accuracy: 0.5088\n",
      "Epoch 6/100\n",
      "2/2 [==============================] - 0s 49ms/step - loss: 0.6995 - categorical_accuracy: 0.5088\n",
      "Epoch 7/100\n",
      "2/2 [==============================] - 0s 46ms/step - loss: 0.6885 - categorical_accuracy: 0.5088\n",
      "Epoch 8/100\n",
      "2/2 [==============================] - 0s 48ms/step - loss: 0.6931 - categorical_accuracy: 0.4912\n",
      "Epoch 9/100\n",
      "2/2 [==============================] - 0s 47ms/step - loss: 0.6947 - categorical_accuracy: 0.4912\n",
      "Epoch 10/100\n",
      "2/2 [==============================] - 0s 48ms/step - loss: 0.6875 - categorical_accuracy: 0.4912\n",
      "Epoch 11/100\n",
      "2/2 [==============================] - 0s 48ms/step - loss: 0.6814 - categorical_accuracy: 0.6491\n",
      "Epoch 12/100\n",
      "2/2 [==============================] - 0s 48ms/step - loss: 0.6806 - categorical_accuracy: 0.5088\n",
      "Epoch 13/100\n",
      "2/2 [==============================] - 0s 47ms/step - loss: 0.6701 - categorical_accuracy: 0.5439\n",
      "Epoch 14/100\n",
      "2/2 [==============================] - 0s 47ms/step - loss: 0.6429 - categorical_accuracy: 0.9825\n",
      "Epoch 15/100\n",
      "2/2 [==============================] - 0s 48ms/step - loss: 0.5737 - categorical_accuracy: 0.9825\n",
      "Epoch 16/100\n",
      "2/2 [==============================] - 0s 49ms/step - loss: 0.4856 - categorical_accuracy: 0.9825\n",
      "Epoch 17/100\n",
      "2/2 [==============================] - 0s 49ms/step - loss: 0.2878 - categorical_accuracy: 0.9825\n",
      "Epoch 18/100\n",
      "2/2 [==============================] - 0s 46ms/step - loss: 0.2950 - categorical_accuracy: 0.8596\n",
      "Epoch 19/100\n",
      "2/2 [==============================] - 0s 49ms/step - loss: 0.2234 - categorical_accuracy: 0.8772\n",
      "Epoch 20/100\n",
      "2/2 [==============================] - 0s 48ms/step - loss: 0.0932 - categorical_accuracy: 1.0000\n",
      "Epoch 21/100\n",
      "2/2 [==============================] - 0s 50ms/step - loss: 0.0516 - categorical_accuracy: 0.9825\n",
      "Epoch 22/100\n",
      "2/2 [==============================] - 0s 50ms/step - loss: 0.0406 - categorical_accuracy: 0.9825\n",
      "Epoch 23/100\n",
      "2/2 [==============================] - 0s 49ms/step - loss: 0.0411 - categorical_accuracy: 0.9825\n",
      "Epoch 24/100\n",
      "2/2 [==============================] - 0s 48ms/step - loss: 0.0374 - categorical_accuracy: 0.9825\n",
      "Epoch 25/100\n",
      "2/2 [==============================] - 0s 47ms/step - loss: 0.0300 - categorical_accuracy: 0.9825\n",
      "Epoch 26/100\n",
      "2/2 [==============================] - 0s 50ms/step - loss: 0.0288 - categorical_accuracy: 0.9825\n",
      "Epoch 27/100\n",
      "2/2 [==============================] - 0s 48ms/step - loss: 0.0271 - categorical_accuracy: 0.9825\n",
      "Epoch 28/100\n",
      "2/2 [==============================] - 0s 51ms/step - loss: 0.0265 - categorical_accuracy: 0.9825\n",
      "Epoch 29/100\n",
      "2/2 [==============================] - 0s 49ms/step - loss: 0.0258 - categorical_accuracy: 0.9825\n",
      "Epoch 30/100\n",
      "2/2 [==============================] - 0s 47ms/step - loss: 0.0254 - categorical_accuracy: 0.9825\n",
      "Epoch 31/100\n",
      "2/2 [==============================] - 0s 51ms/step - loss: 0.0253 - categorical_accuracy: 0.9825\n",
      "Epoch 32/100\n",
      "2/2 [==============================] - 0s 48ms/step - loss: 0.0252 - categorical_accuracy: 0.9825\n",
      "Epoch 33/100\n",
      "2/2 [==============================] - 0s 47ms/step - loss: 0.0258 - categorical_accuracy: 0.9825\n",
      "Epoch 34/100\n",
      "2/2 [==============================] - 0s 51ms/step - loss: 0.0258 - categorical_accuracy: 0.9825\n",
      "Epoch 35/100\n",
      "2/2 [==============================] - 0s 50ms/step - loss: 0.0251 - categorical_accuracy: 0.9825\n",
      "Epoch 36/100\n",
      "2/2 [==============================] - 0s 55ms/step - loss: 0.0246 - categorical_accuracy: 0.9825\n",
      "Epoch 37/100\n",
      "2/2 [==============================] - 0s 56ms/step - loss: 0.0243 - categorical_accuracy: 1.0000\n",
      "Epoch 38/100\n",
      "2/2 [==============================] - 0s 47ms/step - loss: 0.0255 - categorical_accuracy: 0.9825\n",
      "Epoch 39/100\n",
      "2/2 [==============================] - 0s 48ms/step - loss: 0.0252 - categorical_accuracy: 0.9825\n",
      "Epoch 40/100\n",
      "2/2 [==============================] - 0s 53ms/step - loss: 0.0242 - categorical_accuracy: 0.9825\n",
      "Epoch 41/100\n",
      "2/2 [==============================] - 0s 50ms/step - loss: 0.0241 - categorical_accuracy: 0.9825\n",
      "Epoch 42/100\n",
      "2/2 [==============================] - 0s 60ms/step - loss: 0.0241 - categorical_accuracy: 0.9825\n",
      "Epoch 43/100\n",
      "2/2 [==============================] - 0s 50ms/step - loss: 0.0249 - categorical_accuracy: 0.9825\n",
      "Epoch 44/100\n",
      "2/2 [==============================] - 0s 49ms/step - loss: 0.0239 - categorical_accuracy: 1.0000\n",
      "Epoch 45/100\n",
      "2/2 [==============================] - 0s 50ms/step - loss: 0.0238 - categorical_accuracy: 1.0000\n",
      "Epoch 46/100\n",
      "2/2 [==============================] - 0s 54ms/step - loss: 0.0245 - categorical_accuracy: 1.0000\n",
      "Epoch 47/100\n",
      "2/2 [==============================] - 0s 50ms/step - loss: 0.0242 - categorical_accuracy: 1.0000\n",
      "Epoch 48/100\n",
      "2/2 [==============================] - 0s 51ms/step - loss: 0.0237 - categorical_accuracy: 1.0000\n",
      "Epoch 49/100\n",
      "2/2 [==============================] - 0s 50ms/step - loss: 0.0237 - categorical_accuracy: 0.9825\n",
      "Epoch 50/100\n",
      "2/2 [==============================] - 0s 48ms/step - loss: 0.0245 - categorical_accuracy: 0.9825\n",
      "Epoch 51/100\n",
      "2/2 [==============================] - 0s 53ms/step - loss: 0.0237 - categorical_accuracy: 0.9825\n",
      "Epoch 52/100\n",
      "2/2 [==============================] - 0s 47ms/step - loss: 0.0244 - categorical_accuracy: 0.9825\n",
      "Epoch 53/100\n",
      "2/2 [==============================] - 0s 53ms/step - loss: 0.0234 - categorical_accuracy: 1.0000\n",
      "Epoch 54/100\n",
      "2/2 [==============================] - 0s 50ms/step - loss: 0.0241 - categorical_accuracy: 1.0000\n",
      "Epoch 55/100\n",
      "2/2 [==============================] - 0s 51ms/step - loss: 0.0234 - categorical_accuracy: 1.0000\n",
      "Epoch 56/100\n",
      "2/2 [==============================] - 0s 50ms/step - loss: 0.0237 - categorical_accuracy: 1.0000\n",
      "Epoch 57/100\n",
      "2/2 [==============================] - 0s 50ms/step - loss: 0.0233 - categorical_accuracy: 1.0000\n",
      "Epoch 58/100\n",
      "2/2 [==============================] - 0s 50ms/step - loss: 0.0233 - categorical_accuracy: 0.9825\n",
      "Epoch 59/100\n",
      "2/2 [==============================] - 0s 48ms/step - loss: 0.0233 - categorical_accuracy: 0.9825\n",
      "Epoch 60/100\n",
      "2/2 [==============================] - 0s 49ms/step - loss: 0.0232 - categorical_accuracy: 0.9825\n",
      "Epoch 61/100\n",
      "2/2 [==============================] - 0s 50ms/step - loss: 0.0239 - categorical_accuracy: 0.9825\n",
      "Epoch 62/100\n",
      "2/2 [==============================] - 0s 52ms/step - loss: 0.0236 - categorical_accuracy: 1.0000\n",
      "Epoch 63/100\n",
      "2/2 [==============================] - 0s 48ms/step - loss: 0.0234 - categorical_accuracy: 1.0000\n",
      "Epoch 64/100\n",
      "2/2 [==============================] - 0s 50ms/step - loss: 0.0240 - categorical_accuracy: 0.9825\n",
      "Epoch 65/100\n",
      "2/2 [==============================] - 0s 51ms/step - loss: 0.0236 - categorical_accuracy: 0.9825\n",
      "Epoch 66/100\n",
      "2/2 [==============================] - 0s 50ms/step - loss: 0.0238 - categorical_accuracy: 0.9825\n",
      "Epoch 67/100\n",
      "2/2 [==============================] - 0s 49ms/step - loss: 0.0235 - categorical_accuracy: 1.0000\n",
      "Epoch 68/100\n",
      "2/2 [==============================] - 0s 50ms/step - loss: 0.0227 - categorical_accuracy: 1.0000\n",
      "Epoch 69/100\n",
      "2/2 [==============================] - 0s 56ms/step - loss: 0.0233 - categorical_accuracy: 0.9825\n",
      "Epoch 70/100\n",
      "2/2 [==============================] - 0s 50ms/step - loss: 0.0226 - categorical_accuracy: 1.0000\n",
      "Epoch 71/100\n",
      "2/2 [==============================] - 0s 51ms/step - loss: 0.0230 - categorical_accuracy: 1.0000\n",
      "Epoch 72/100\n",
      "2/2 [==============================] - 0s 48ms/step - loss: 0.0225 - categorical_accuracy: 1.0000\n",
      "Epoch 73/100\n",
      "2/2 [==============================] - 0s 50ms/step - loss: 0.0225 - categorical_accuracy: 1.0000\n",
      "Epoch 74/100\n"
     ]
    },
    {
     "name": "stdout",
     "output_type": "stream",
     "text": [
      "2/2 [==============================] - 0s 55ms/step - loss: 0.0232 - categorical_accuracy: 0.9825\n",
      "Epoch 75/100\n",
      "2/2 [==============================] - 0s 51ms/step - loss: 0.0225 - categorical_accuracy: 1.0000\n",
      "Epoch 76/100\n",
      "2/2 [==============================] - 0s 50ms/step - loss: 0.0227 - categorical_accuracy: 1.0000\n",
      "Epoch 77/100\n",
      "2/2 [==============================] - 0s 48ms/step - loss: 0.0233 - categorical_accuracy: 1.0000\n",
      "Epoch 78/100\n",
      "2/2 [==============================] - 0s 53ms/step - loss: 0.0230 - categorical_accuracy: 0.9825\n",
      "Epoch 79/100\n",
      "2/2 [==============================] - 0s 50ms/step - loss: 0.0222 - categorical_accuracy: 0.9825\n",
      "Epoch 80/100\n",
      "2/2 [==============================] - 0s 50ms/step - loss: 0.0221 - categorical_accuracy: 1.0000\n",
      "Epoch 81/100\n",
      "2/2 [==============================] - 0s 50ms/step - loss: 0.0221 - categorical_accuracy: 1.0000\n",
      "Epoch 82/100\n",
      "2/2 [==============================] - 0s 49ms/step - loss: 0.0227 - categorical_accuracy: 1.0000\n",
      "Epoch 83/100\n",
      "2/2 [==============================] - 0s 50ms/step - loss: 0.0226 - categorical_accuracy: 1.0000\n",
      "Epoch 84/100\n",
      "2/2 [==============================] - 0s 50ms/step - loss: 0.0225 - categorical_accuracy: 1.0000\n",
      "Epoch 85/100\n",
      "2/2 [==============================] - 0s 51ms/step - loss: 0.0222 - categorical_accuracy: 1.0000\n",
      "Epoch 86/100\n",
      "2/2 [==============================] - 0s 51ms/step - loss: 0.0219 - categorical_accuracy: 1.0000\n",
      "Epoch 87/100\n",
      "2/2 [==============================] - 0s 53ms/step - loss: 0.0217 - categorical_accuracy: 1.0000\n",
      "Epoch 88/100\n",
      "2/2 [==============================] - 0s 51ms/step - loss: 0.0217 - categorical_accuracy: 1.0000\n",
      "Epoch 89/100\n",
      "2/2 [==============================] - 0s 49ms/step - loss: 0.0220 - categorical_accuracy: 0.9825\n",
      "Epoch 90/100\n",
      "2/2 [==============================] - 0s 53ms/step - loss: 0.0217 - categorical_accuracy: 0.9825\n",
      "Epoch 91/100\n",
      "2/2 [==============================] - 0s 55ms/step - loss: 0.0217 - categorical_accuracy: 0.9825\n",
      "Epoch 92/100\n",
      "2/2 [==============================] - 0s 50ms/step - loss: 0.0221 - categorical_accuracy: 0.9825\n",
      "Epoch 93/100\n",
      "2/2 [==============================] - 0s 50ms/step - loss: 0.0215 - categorical_accuracy: 0.9825\n",
      "Epoch 94/100\n",
      "2/2 [==============================] - 0s 54ms/step - loss: 0.0222 - categorical_accuracy: 1.0000\n",
      "Epoch 95/100\n",
      "2/2 [==============================] - 0s 51ms/step - loss: 0.0212 - categorical_accuracy: 1.0000\n",
      "Epoch 96/100\n",
      "2/2 [==============================] - 0s 50ms/step - loss: 0.0215 - categorical_accuracy: 1.0000\n",
      "Epoch 97/100\n",
      "2/2 [==============================] - 0s 48ms/step - loss: 0.0218 - categorical_accuracy: 1.0000\n",
      "Epoch 98/100\n",
      "2/2 [==============================] - 0s 48ms/step - loss: 0.0215 - categorical_accuracy: 1.0000\n",
      "Epoch 99/100\n",
      "2/2 [==============================] - 0s 50ms/step - loss: 0.0212 - categorical_accuracy: 1.0000\n",
      "Epoch 100/100\n",
      "2/2 [==============================] - 0s 49ms/step - loss: 0.0218 - categorical_accuracy: 1.0000\n"
     ]
    },
    {
     "data": {
      "text/plain": [
       "<keras.callbacks.History at 0x1e8257c2e00>"
      ]
     },
     "execution_count": 98,
     "metadata": {},
     "output_type": "execute_result"
    }
   ],
   "source": [
    "model.fit(X_train, y_train, epochs=100, callbacks=[tb_callback])"
   ]
  },
  {
   "cell_type": "code",
   "execution_count": 99,
   "metadata": {
    "execution": {
     "iopub.execute_input": "2022-06-09T17:04:27.153Z",
     "iopub.status.busy": "2022-06-09T17:04:27.137Z",
     "iopub.status.idle": "2022-06-09T17:04:27.334Z",
     "shell.execute_reply": "2022-06-09T17:04:27.348Z"
    },
    "jupyter": {
     "outputs_hidden": false,
     "source_hidden": false
    },
    "nteract": {
     "transient": {
      "deleting": false
     }
    },
    "scrolled": true
   },
   "outputs": [
    {
     "name": "stdout",
     "output_type": "stream",
     "text": [
      "Model: \"sequential\"\n",
      "_________________________________________________________________\n",
      " Layer (type)                Output Shape              Param #   \n",
      "=================================================================\n",
      " lstm (LSTM)                 (None, 30, 64)            442112    \n",
      "                                                                 \n",
      " lstm_1 (LSTM)               (None, 30, 128)           98816     \n",
      "                                                                 \n",
      " lstm_2 (LSTM)               (None, 64)                49408     \n",
      "                                                                 \n",
      " dense (Dense)               (None, 64)                4160      \n",
      "                                                                 \n",
      " dense_1 (Dense)             (None, 32)                2080      \n",
      "                                                                 \n",
      " dense_2 (Dense)             (None, 2)                 66        \n",
      "                                                                 \n",
      "=================================================================\n",
      "Total params: 596,642\n",
      "Trainable params: 596,642\n",
      "Non-trainable params: 0\n",
      "_________________________________________________________________\n"
     ]
    }
   ],
   "source": [
    "model.summary()"
   ]
  },
  {
   "cell_type": "code",
   "execution_count": null,
   "metadata": {},
   "outputs": [],
   "source": []
  },
  {
   "cell_type": "code",
   "execution_count": null,
   "metadata": {},
   "outputs": [],
   "source": []
  },
  {
   "cell_type": "markdown",
   "metadata": {
    "nteract": {
     "transient": {
      "deleting": false
     }
    }
   },
   "source": [
    "## 8. Make Predictions"
   ]
  },
  {
   "cell_type": "code",
   "execution_count": 100,
   "metadata": {
    "execution": {
     "iopub.execute_input": "2022-06-09T17:04:28.938Z",
     "iopub.status.busy": "2022-06-09T17:04:28.921Z",
     "iopub.status.idle": "2022-06-09T17:04:29.169Z",
     "shell.execute_reply": "2022-06-09T17:04:29.187Z"
    },
    "jupyter": {
     "outputs_hidden": false,
     "source_hidden": false
    },
    "nteract": {
     "transient": {
      "deleting": false
     }
    }
   },
   "outputs": [
    {
     "name": "stdout",
     "output_type": "stream",
     "text": [
      "1/1 [==============================] - 1s 879ms/step\n"
     ]
    }
   ],
   "source": [
    "res = model.predict(X_test)"
   ]
  },
  {
   "cell_type": "code",
   "execution_count": 101,
   "metadata": {
    "scrolled": true
   },
   "outputs": [
    {
     "data": {
      "text/plain": [
       "'lazy'"
      ]
     },
     "execution_count": 101,
     "metadata": {},
     "output_type": "execute_result"
    }
   ],
   "source": [
    "actions_new[np.argmax(res[0])]"
   ]
  },
  {
   "cell_type": "code",
   "execution_count": 102,
   "metadata": {
    "execution": {
     "iopub.execute_input": "2022-06-09T17:04:29.390Z",
     "iopub.status.busy": "2022-06-09T17:04:29.375Z",
     "iopub.status.idle": "2022-06-09T17:04:29.420Z",
     "shell.execute_reply": "2022-06-09T17:04:29.434Z"
    },
    "jupyter": {
     "outputs_hidden": false,
     "source_hidden": false
    },
    "nteract": {
     "transient": {
      "deleting": false
     }
    }
   },
   "outputs": [
    {
     "data": {
      "text/plain": [
       "'lazy'"
      ]
     },
     "execution_count": 102,
     "metadata": {},
     "output_type": "execute_result"
    }
   ],
   "source": [
    "actions_new[np.argmax(y_test[0])]"
   ]
  },
  {
   "cell_type": "markdown",
   "metadata": {
    "nteract": {
     "transient": {
      "deleting": false
     }
    }
   },
   "source": [
    "## 9. Save Weights"
   ]
  },
  {
   "cell_type": "code",
   "execution_count": 104,
   "metadata": {
    "execution": {
     "iopub.execute_input": "2022-06-09T17:04:31.507Z",
     "iopub.status.busy": "2022-06-09T17:04:31.491Z",
     "iopub.status.idle": "2022-06-09T17:04:31.531Z",
     "shell.execute_reply": "2022-06-09T17:04:31.545Z"
    },
    "jupyter": {
     "outputs_hidden": false,
     "source_hidden": false
    },
    "nteract": {
     "transient": {
      "deleting": false
     }
    }
   },
   "outputs": [],
   "source": [
    "model.save('../models/'+ model_to_save +'.h5')"
   ]
  },
  {
   "cell_type": "code",
   "execution_count": null,
   "metadata": {},
   "outputs": [],
   "source": []
  }
 ],
 "metadata": {
  "kernelspec": {
   "display_name": "Python 3 (ipykernel)",
   "language": "python",
   "name": "python3"
  },
  "language_info": {
   "codemirror_mode": {
    "name": "ipython",
    "version": 3
   },
   "file_extension": ".py",
   "mimetype": "text/x-python",
   "name": "python",
   "nbconvert_exporter": "python",
   "pygments_lexer": "ipython3",
   "version": "3.10.6"
  },
  "nteract": {
   "version": "0.28.0"
  }
 },
 "nbformat": 4,
 "nbformat_minor": 2
}
