{
 "cells": [
  {
   "cell_type": "code",
   "execution_count": 1,
   "id": "6decee6a",
   "metadata": {},
   "outputs": [],
   "source": [
    "import cv2\n",
    "import numpy as np\n",
    "import os\n",
    "from matplotlib import pyplot as plt\n",
    "import time\n",
    "import mediapipe as mp\n",
    "import tensorflow"
   ]
  },
  {
   "cell_type": "code",
   "execution_count": 3,
   "id": "20a7ea4b",
   "metadata": {},
   "outputs": [
    {
     "name": "stdout",
     "output_type": "stream",
     "text": [
      "actionsf - Copy.h5\n",
      "actionsf.h5\n"
     ]
    }
   ],
   "source": [
    "MODELS_PATH = os.path.join(\"../models\")\n",
    "for file in os.listdir(MODELS_PATH):\n",
    "    print(file)"
   ]
  },
  {
   "cell_type": "code",
   "execution_count": 4,
   "id": "482a0e53",
   "metadata": {},
   "outputs": [
    {
     "name": "stdout",
     "output_type": "stream",
     "text": [
      "What would you like to name the model? actionsf - Copy\n"
     ]
    }
   ],
   "source": [
    "model_name=input(\"What would you like to name the model? \")"
   ]
  },
  {
   "cell_type": "code",
   "execution_count": 5,
   "id": "a7ed2642",
   "metadata": {},
   "outputs": [],
   "source": [
    "os.remove('../models/'+ model_name +'.h5')"
   ]
  },
  {
   "cell_type": "code",
   "execution_count": null,
   "id": "93474c9f",
   "metadata": {},
   "outputs": [],
   "source": []
  },
  {
   "cell_type": "code",
   "execution_count": null,
   "id": "66a15ac8",
   "metadata": {},
   "outputs": [],
   "source": []
  },
  {
   "cell_type": "code",
   "execution_count": null,
   "id": "7c0cef1f",
   "metadata": {},
   "outputs": [],
   "source": []
  },
  {
   "cell_type": "code",
   "execution_count": null,
   "id": "93c1af88",
   "metadata": {},
   "outputs": [],
   "source": []
  }
 ],
 "metadata": {
  "kernelspec": {
   "display_name": "Python 3 (ipykernel)",
   "language": "python",
   "name": "python3"
  },
  "language_info": {
   "codemirror_mode": {
    "name": "ipython",
    "version": 3
   },
   "file_extension": ".py",
   "mimetype": "text/x-python",
   "name": "python",
   "nbconvert_exporter": "python",
   "pygments_lexer": "ipython3",
   "version": "3.10.6"
  }
 },
 "nbformat": 4,
 "nbformat_minor": 5
}
