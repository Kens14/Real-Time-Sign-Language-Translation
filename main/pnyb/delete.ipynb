{
 "cells": [
  {
   "cell_type": "code",
   "execution_count": 2,
   "id": "2df57c15",
   "metadata": {},
   "outputs": [],
   "source": [
    "import cv2\n",
    "import numpy as np\n",
    "import os\n",
    "from matplotlib import pyplot as plt\n",
    "import time\n",
    "import mediapipe as mp\n",
    "import tensorflow"
   ]
  },
  {
   "cell_type": "code",
   "execution_count": 3,
   "id": "e3b03a03",
   "metadata": {},
   "outputs": [
    {
     "name": "stdout",
     "output_type": "stream",
     "text": [
      "available models: \n",
      "\n",
      "actionsf.h5\n",
      "kickpunch.h5\n",
      "lazypunch.h5\n"
     ]
    }
   ],
   "source": [
    "MODELS_PATH = os.path.join(\"../models\")\n",
    "print(\"available models: \\n\")\n",
    "for file in os.listdir(MODELS_PATH):\n",
    "    print(file)"
   ]
  },
  {
   "cell_type": "code",
   "execution_count": 4,
   "id": "61df8737",
   "metadata": {},
   "outputs": [
    {
     "name": "stdout",
     "output_type": "stream",
     "text": [
      "What would you like to name the model? actionsf - Copy\n"
     ]
    }
   ],
   "source": [
    "model_name=input(\"What would you like to name the model? \")"
   ]
  },
  {
   "cell_type": "code",
   "execution_count": 5,
   "id": "08e3ed44",
   "metadata": {},
   "outputs": [],
   "source": [
    "os.remove('../models/'+ model_name +'.h5')"
   ]
  },
  {
   "cell_type": "code",
   "execution_count": null,
   "id": "6effaf4d",
   "metadata": {},
   "outputs": [],
   "source": []
  },
  {
   "cell_type": "code",
   "execution_count": null,
   "id": "9ef39e27",
   "metadata": {},
   "outputs": [],
   "source": []
  },
  {
   "cell_type": "code",
   "execution_count": null,
   "id": "0b755c42",
   "metadata": {},
   "outputs": [],
   "source": []
  },
  {
   "cell_type": "code",
   "execution_count": null,
   "id": "4d32fb0a",
   "metadata": {},
   "outputs": [],
   "source": []
  }
 ],
 "metadata": {
  "kernelspec": {
   "display_name": "Python 3 (ipykernel)",
   "language": "python",
   "name": "python3"
  },
  "language_info": {
   "codemirror_mode": {
    "name": "ipython",
    "version": 3
   },
   "file_extension": ".py",
   "mimetype": "text/x-python",
   "name": "python",
   "nbconvert_exporter": "python",
   "pygments_lexer": "ipython3",
   "version": "3.10.6"
  }
 },
 "nbformat": 4,
 "nbformat_minor": 5
}
