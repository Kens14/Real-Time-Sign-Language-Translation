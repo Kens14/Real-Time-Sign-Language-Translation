{
  "cells": [
    {
      "cell_type": "markdown",
      "source": [
        "## 1.importing dependencies"
      ],
      "metadata": {},
      "id": "4e191779"
    },
    {
      "cell_type": "code",
      "source": [
        "import cv2\n",
        "import numpy as np\n",
        "import os\n",
        "from matplotlib import pyplot as plt\n",
        "import time\n",
        "import mediapipe as mp\n",
        "import tensorflow as tf\n"
      ],
      "outputs": [],
      "execution_count": 4,
      "metadata": {
        "execution": {
          "iopub.execute_input": "2022-08-25T12:52:51.486Z",
          "iopub.status.busy": "2022-08-25T12:52:51.474Z",
          "iopub.status.idle": "2022-08-25T12:52:51.504Z",
          "shell.execute_reply": "2022-08-25T12:52:51.514Z"
        }
      },
      "id": "aaa1d9fd"
    },
    {
      "cell_type": "markdown",
      "source": [
        "## 2.Keypoints using MP Holistic"
      ],
      "metadata": {},
      "id": "60e9c483"
    },
    {
      "cell_type": "code",
      "source": [
        "mp_holistic =  mp.solutions.holistic # Holistic model\n",
        "mp_drawing = mp.solutions.drawing_utils # Drawing utilities"
      ],
      "outputs": [],
      "execution_count": 3,
      "metadata": {
        "execution": {
          "iopub.execute_input": "2022-08-12T10:49:47.037Z",
          "iopub.status.busy": "2022-08-12T10:49:47.025Z",
          "iopub.status.idle": "2022-08-12T10:49:47.061Z",
          "shell.execute_reply": "2022-08-12T10:49:47.075Z"
        }
      },
      "id": "28aed65d"
    },
    {
      "cell_type": "code",
      "source": [
        "def mediapipe_detection(image, model):\n",
        "    image = cv2.cvtColor(image, cv2.COLOR_BGR2RGB) # COLOR CONVERSION BGR 2 RGB\n",
        "    image.flags.writeable = False                  # Image is no longer writeable\n",
        "    results = model.process(image)                 # Make prediction\n",
        "    image.flags.writeable = True                   # Image is now writeable \n",
        "    image = cv2.cvtColor(image, cv2.COLOR_RGB2BGR) # COLOR COVERSION RGB 2 BGR\n",
        "    return image, results"
      ],
      "outputs": [],
      "execution_count": 4,
      "metadata": {
        "execution": {
          "iopub.execute_input": "2022-08-12T10:49:47.668Z",
          "iopub.status.busy": "2022-08-12T10:49:47.658Z",
          "iopub.status.idle": "2022-08-12T10:49:47.685Z",
          "shell.execute_reply": "2022-08-12T10:49:47.697Z"
        }
      },
      "id": "9ef2e70d"
    },
    {
      "cell_type": "code",
      "source": [
        "def draw_landmarks(image, results):\n",
        "    mp_drawing.draw_landmarks(image, results.face_landmarks, mp_holistic.FACEMESH_TESSELATION) # Draw face connections\n",
        "    mp_drawing.draw_landmarks(image, results.pose_landmarks, mp_holistic.POSE_CONNECTIONS) # Draw pose connections\n",
        "    mp_drawing.draw_landmarks(image, results.left_hand_landmarks, mp_holistic.HAND_CONNECTIONS) # Draw left hand connections\n",
        "    mp_drawing.draw_landmarks(image, results.right_hand_landmarks, mp_holistic.HAND_CONNECTIONS) # Draw right hand connections"
      ],
      "outputs": [],
      "execution_count": 5,
      "metadata": {
        "execution": {
          "iopub.execute_input": "2022-08-12T10:49:48.197Z",
          "iopub.status.busy": "2022-08-12T10:49:48.182Z",
          "iopub.status.idle": "2022-08-12T10:49:48.227Z",
          "shell.execute_reply": "2022-08-12T10:49:48.238Z"
        }
      },
      "id": "a1f9c2ca"
    },
    {
      "cell_type": "code",
      "source": [
        "def draw_styled_landmarks(image, results):\n",
        "    # Draw face connections\n",
        "    mp_drawing.draw_landmarks(image, results.face_landmarks, mp_holistic.FACEMESH_TESSELATION, \n",
        "                             mp_drawing.DrawingSpec(color=(80,110,10), thickness=1, circle_radius=1), \n",
        "                             mp_drawing.DrawingSpec(color=(80,256,121), thickness=1, circle_radius=1)\n",
        "                             ) \n",
        "    # Draw pose connections\n",
        "    mp_drawing.draw_landmarks(image, results.pose_landmarks, mp_holistic.POSE_CONNECTIONS,\n",
        "                             mp_drawing.DrawingSpec(color=(80,22,10), thickness=2, circle_radius=4), \n",
        "                             mp_drawing.DrawingSpec(color=(80,44,121), thickness=2, circle_radius=2)\n",
        "                             ) \n",
        "    # Draw left hand connections\n",
        "    mp_drawing.draw_landmarks(image, results.left_hand_landmarks, mp_holistic.HAND_CONNECTIONS, \n",
        "                             mp_drawing.DrawingSpec(color=(121,22,76), thickness=2, circle_radius=4), \n",
        "                             mp_drawing.DrawingSpec(color=(121,44,250), thickness=2, circle_radius=2)\n",
        "                             ) \n",
        "    # Draw right hand connections  \n",
        "    mp_drawing.draw_landmarks(image, results.right_hand_landmarks, mp_holistic.HAND_CONNECTIONS, \n",
        "                             mp_drawing.DrawingSpec(color=(245,117,66), thickness=2, circle_radius=4), \n",
        "                             mp_drawing.DrawingSpec(color=(245,66,230), thickness=2, circle_radius=2)\n",
        "                             ) "
      ],
      "outputs": [],
      "execution_count": 6,
      "metadata": {
        "execution": {
          "iopub.execute_input": "2022-08-12T10:49:48.915Z",
          "iopub.status.busy": "2022-08-12T10:49:48.900Z",
          "iopub.status.idle": "2022-08-12T10:49:48.934Z",
          "shell.execute_reply": "2022-08-12T10:49:48.944Z"
        }
      },
      "id": "6e3d8720"
    },
    {
      "cell_type": "code",
      "source": [
        "def extract_keypoints(results):\n",
        "    pose = np.array([[res.x, res.y, res.z, res.visibility] for res in results.pose_landmarks.landmark]).flatten() if results.pose_landmarks else np.zeros(33*4)\n",
        "    face = np.array([[res.x, res.y, res.z] for res in results.face_landmarks.landmark]).flatten() if results.face_landmarks else np.zeros(468*3)\n",
        "    lh = np.array([[res.x, res.y, res.z] for res in results.left_hand_landmarks.landmark]).flatten() if results.left_hand_landmarks else np.zeros(21*3)\n",
        "    rh = np.array([[res.x, res.y, res.z] for res in results.right_hand_landmarks.landmark]).flatten() if results.right_hand_landmarks else np.zeros(21*3)\n",
        "    return np.concatenate([pose, face, lh, rh])"
      ],
      "outputs": [],
      "execution_count": 7,
      "metadata": {
        "execution": {
          "iopub.execute_input": "2022-08-12T10:49:49.619Z",
          "iopub.status.busy": "2022-08-12T10:49:49.609Z",
          "iopub.status.idle": "2022-08-12T10:49:49.637Z",
          "shell.execute_reply": "2022-08-12T10:49:49.648Z"
        }
      },
      "id": "8c0380a5"
    },
    {
      "cell_type": "markdown",
      "source": [
        "## 3.Initialising Actions Array"
      ],
      "metadata": {},
      "id": "517d9e98"
    },
    {
      "cell_type": "code",
      "source": [
        "MODELS_PATH = os.path.join(\"../../models\")\n",
        "print(\"available models: \")\n",
        "for file in os.listdir(MODELS_PATH):\n",
        "    print(file)\n"
      ],
      "outputs": [
        {
          "output_type": "stream",
          "name": "stdout",
          "text": [
            "available models: \n",
            "actionsf.h5\n",
            "lazypunch.h5\n"
          ]
        }
      ],
      "execution_count": 9,
      "metadata": {
        "execution": {
          "iopub.status.busy": "2022-08-12T10:50:12.300Z",
          "iopub.execute_input": "2022-08-12T10:50:12.313Z",
          "iopub.status.idle": "2022-08-12T10:50:12.341Z",
          "shell.execute_reply": "2022-08-12T10:50:12.352Z"
        }
      },
      "id": "a04c910f"
    },
    {
      "cell_type": "code",
      "source": [
        "model_to_load = input(\" Which model do you want to use : (filename) \")\n"
      ],
      "outputs": [],
      "execution_count": 5,
      "metadata": {
        "execution": {
          "iopub.status.busy": "2022-08-25T12:52:53.137Z",
          "iopub.execute_input": "2022-08-25T12:52:53.148Z",
          "iopub.status.idle": "2022-08-25T12:53:25.976Z",
          "shell.execute_reply": "2022-08-25T12:53:25.955Z"
        }
      },
      "id": "ace51d8f"
    },
    {
      "cell_type": "code",
      "source": [
        "# Path for exported data, numpy arrays\n",
        "actions = np.array([])\n",
        "DATA_PATH = os.path.join(\"../../MP_Data/Phrases\")\n",
        "f = open('../Names/'+ model_to_load + '.names', 'r')  \n",
        "actions_new = f.read().split('\\n')\n",
        "f.close()\n",
        "\n",
        "no_sequences = 30\n",
        "\n",
        "# Videos are going to be 30 frames in length\n",
        "sequence_length = 30\n"
      ],
      "outputs": [],
      "execution_count": 14,
      "metadata": {
        "execution": {
          "iopub.execute_input": "2022-08-25T12:54:21.498Z",
          "iopub.status.busy": "2022-08-25T12:54:21.487Z",
          "iopub.status.idle": "2022-08-25T12:54:21.515Z",
          "shell.execute_reply": "2022-08-25T12:54:21.525Z"
        }
      },
      "id": "efe63d41"
    },
    {
      "cell_type": "code",
      "source": [
        "print(actions_new)"
      ],
      "outputs": [
        {
          "output_type": "stream",
          "name": "stdout",
          "text": [
            "['Emergency', 'Hello', 'Fine', 'wait', 'deaf', 'help', 'good morning']\n"
          ]
        }
      ],
      "execution_count": 15,
      "metadata": {
        "execution": {
          "iopub.status.busy": "2022-08-25T12:54:23.864Z",
          "iopub.execute_input": "2022-08-25T12:54:23.875Z",
          "iopub.status.idle": "2022-08-25T12:54:23.946Z",
          "shell.execute_reply": "2022-08-25T12:54:23.956Z"
        }
      },
      "id": "a1ed3ea4"
    },
    {
      "cell_type": "markdown",
      "source": [
        "## 4. Preprocess data and Create labels and features"
      ],
      "metadata": {},
      "id": "0d013333"
    },
    {
      "cell_type": "code",
      "source": [
        "from sklearn.model_selection import train_test_split\n",
        "from tensorflow.keras.utils import to_categorical"
      ],
      "outputs": [],
      "execution_count": 38,
      "metadata": {
        "execution": {
          "iopub.execute_input": "2022-08-12T10:57:29.856Z",
          "iopub.status.busy": "2022-08-12T10:57:29.846Z",
          "iopub.status.idle": "2022-08-12T10:57:29.872Z",
          "shell.execute_reply": "2022-08-12T10:57:29.881Z"
        }
      },
      "id": "8ffcbecd"
    },
    {
      "cell_type": "code",
      "source": [
        "label_map = {label:num for num, label in enumerate(actions)}"
      ],
      "outputs": [],
      "execution_count": 39,
      "metadata": {
        "execution": {
          "iopub.execute_input": "2022-08-12T10:57:30.257Z",
          "iopub.status.busy": "2022-08-12T10:57:30.244Z",
          "iopub.status.idle": "2022-08-12T10:57:30.276Z",
          "shell.execute_reply": "2022-08-12T10:57:30.285Z"
        }
      },
      "id": "c24820fa"
    },
    {
      "cell_type": "code",
      "source": [
        "label_map"
      ],
      "outputs": [
        {
          "output_type": "execute_result",
          "execution_count": 40,
          "data": {
            "text/plain": "{'Emergency': 0,\n 'Hello': 1,\n 'Fine': 2,\n 'wait': 3,\n 'deaf': 4,\n 'help': 5,\n 'good morning': 6}"
          },
          "metadata": {}
        }
      ],
      "execution_count": 40,
      "metadata": {
        "execution": {
          "iopub.execute_input": "2022-08-12T10:57:30.664Z",
          "iopub.status.busy": "2022-08-12T10:57:30.653Z",
          "iopub.status.idle": "2022-08-12T10:57:30.689Z",
          "shell.execute_reply": "2022-08-12T10:57:30.698Z"
        }
      },
      "id": "12aa9998"
    },
    {
      "cell_type": "code",
      "source": [
        "sequences= []\n",
        "labels = []\n",
        "for action in actions:\n",
        "    for sequence in np.array(os.listdir(os.path.join(DATA_PATH, action))).astype(int):\n",
        "        window = []\n",
        "        for frame_num in range(sequence_length):\n",
        "            res = np.load(os.path.join(DATA_PATH, action, str(sequence), \"{}.npy\".format(frame_num)))\n",
        "            window.append(res)\n",
        "        sequences.append(window)\n",
        "        labels.append(label_map[action])"
      ],
      "outputs": [],
      "execution_count": 45,
      "metadata": {
        "execution": {
          "iopub.execute_input": "2022-08-12T10:57:41.140Z",
          "iopub.status.busy": "2022-08-12T10:57:41.130Z",
          "iopub.status.idle": "2022-08-12T10:57:42.456Z",
          "shell.execute_reply": "2022-08-12T10:57:42.435Z"
        }
      },
      "id": "6bc48b12"
    },
    {
      "cell_type": "code",
      "source": [
        "X = np.array(sequences)"
      ],
      "outputs": [],
      "execution_count": 46,
      "metadata": {
        "execution": {
          "iopub.execute_input": "2022-08-12T10:57:44.600Z",
          "iopub.status.busy": "2022-08-12T10:57:44.590Z",
          "iopub.status.idle": "2022-08-12T10:57:44.615Z",
          "shell.execute_reply": "2022-08-12T10:57:44.624Z"
        }
      },
      "id": "229caf6a"
    },
    {
      "cell_type": "code",
      "source": [
        "y = to_categorical(labels).astype(int)"
      ],
      "outputs": [],
      "execution_count": 47,
      "metadata": {
        "execution": {
          "iopub.execute_input": "2022-08-12T10:57:47.119Z",
          "iopub.status.busy": "2022-08-12T10:57:47.109Z",
          "iopub.status.idle": "2022-08-12T10:57:47.136Z",
          "shell.execute_reply": "2022-08-12T10:57:47.147Z"
        }
      },
      "id": "3898f139"
    },
    {
      "cell_type": "code",
      "source": [
        "X_train, X_test, y_train, y_test = train_test_split(X, y, test_size=0.05)"
      ],
      "outputs": [],
      "execution_count": 48,
      "metadata": {
        "execution": {
          "iopub.execute_input": "2022-08-12T10:57:48.566Z",
          "iopub.status.busy": "2022-08-12T10:57:48.553Z",
          "iopub.status.idle": "2022-08-12T10:57:48.584Z",
          "shell.execute_reply": "2022-08-12T10:57:48.594Z"
        }
      },
      "id": "8dddc188"
    },
    {
      "cell_type": "code",
      "source": [],
      "outputs": [],
      "execution_count": null,
      "metadata": {},
      "id": "8b136afd"
    },
    {
      "cell_type": "markdown",
      "source": [
        "## 5. Loading the trained model"
      ],
      "metadata": {},
      "id": "124ff423"
    },
    {
      "cell_type": "code",
      "source": [
        "MODELS_PATH = os.path.join(\"../../models\")\n"
      ],
      "outputs": [],
      "execution_count": 52,
      "metadata": {
        "execution": {
          "iopub.status.busy": "2022-08-12T10:58:24.151Z",
          "iopub.execute_input": "2022-08-12T10:58:24.163Z",
          "iopub.status.idle": "2022-08-12T10:58:24.180Z",
          "shell.execute_reply": "2022-08-12T10:58:24.189Z"
        }
      },
      "id": "ac674fce"
    },
    {
      "cell_type": "code",
      "source": [
        "model = tf.keras.models.load_model(\"../../models/\" + model_to_load + \".h5\")  "
      ],
      "outputs": [],
      "execution_count": 53,
      "metadata": {
        "execution": {
          "iopub.execute_input": "2022-08-12T10:58:25.016Z",
          "iopub.status.busy": "2022-08-12T10:58:25.005Z",
          "iopub.status.idle": "2022-08-12T10:58:25.576Z",
          "shell.execute_reply": "2022-08-12T10:58:25.591Z"
        }
      },
      "id": "423b8166"
    },
    {
      "cell_type": "code",
      "source": [],
      "outputs": [],
      "execution_count": null,
      "metadata": {},
      "id": "86e84de4"
    },
    {
      "cell_type": "markdown",
      "source": [
        "## 6. Evaluation using confusion matrix and accuracy"
      ],
      "metadata": {},
      "id": "d6471d53"
    },
    {
      "cell_type": "code",
      "source": [
        "from sklearn.metrics import multilabel_confusion_matrix, accuracy_score"
      ],
      "outputs": [],
      "execution_count": 54,
      "metadata": {
        "execution": {
          "iopub.execute_input": "2022-08-12T10:58:35.588Z",
          "iopub.status.busy": "2022-08-12T10:58:35.578Z",
          "iopub.status.idle": "2022-08-12T10:58:35.607Z",
          "shell.execute_reply": "2022-08-12T10:58:35.617Z"
        }
      },
      "id": "f0965441"
    },
    {
      "cell_type": "code",
      "source": [
        "yhat = model.predict(X_test)"
      ],
      "outputs": [
        {
          "output_type": "stream",
          "name": "stdout",
          "text": [
            "1/1 [==============================] - 1s 834ms/step\b\b\b\b\b\b\b\b\b\b\b\b\b\b\b\b\b\b\b\b\b\b\b\b\b\b\b\b\b\b\b\b\b\b\b\b\b\b\b\b\n"
          ]
        }
      ],
      "execution_count": 55,
      "metadata": {
        "execution": {
          "iopub.execute_input": "2022-08-12T10:58:36.356Z",
          "iopub.status.busy": "2022-08-12T10:58:36.344Z",
          "iopub.status.idle": "2022-08-12T10:58:37.193Z",
          "shell.execute_reply": "2022-08-12T10:58:37.215Z"
        }
      },
      "id": "c717760a"
    },
    {
      "cell_type": "code",
      "source": [
        "ytrue = np.argmax(y_test, axis=1).tolist()\n",
        "yhat = np.argmax(yhat, axis=1).tolist()"
      ],
      "outputs": [],
      "execution_count": 56,
      "metadata": {
        "execution": {
          "iopub.execute_input": "2022-08-12T10:58:38.366Z",
          "iopub.status.busy": "2022-08-12T10:58:38.354Z",
          "iopub.status.idle": "2022-08-12T10:58:38.382Z",
          "shell.execute_reply": "2022-08-12T10:58:38.392Z"
        },
        "scrolled": true
      },
      "id": "032e54be"
    },
    {
      "cell_type": "code",
      "source": [
        "accuracy_score(ytrue, yhat)"
      ],
      "outputs": [
        {
          "output_type": "execute_result",
          "execution_count": 57,
          "data": {
            "text/plain": "0.9090909090909091"
          },
          "metadata": {}
        }
      ],
      "execution_count": 57,
      "metadata": {
        "execution": {
          "iopub.execute_input": "2022-08-12T10:58:39.046Z",
          "iopub.status.busy": "2022-08-12T10:58:39.034Z",
          "iopub.status.idle": "2022-08-12T10:58:39.070Z",
          "shell.execute_reply": "2022-08-12T10:58:39.080Z"
        }
      },
      "id": "3295dfec"
    },
    {
      "cell_type": "code",
      "source": [],
      "outputs": [],
      "execution_count": null,
      "metadata": {},
      "id": "8d9ec65e"
    },
    {
      "cell_type": "markdown",
      "source": [
        "## 7. Test in realtime"
      ],
      "metadata": {},
      "id": "bf14badc"
    },
    {
      "cell_type": "code",
      "source": [
        "from scipy import stats"
      ],
      "outputs": [],
      "execution_count": 97,
      "metadata": {},
      "id": "a63e2084"
    },
    {
      "cell_type": "code",
      "source": [
        "colors = [(245,117,16), (117,245,16), (16,117,245),(245,145,145), (163,255,255), (0,204,204), (140,140,140)]\n",
        "def prob_viz(res, actions, input_frame, colors):\n",
        "    output_frame = input_frame.copy()\n",
        "    for num, prob in enumerate(res):\n",
        "        cv2.rectangle(output_frame, (0,60+num*40), (int(prob*100), 90+num*40), colors[num], -1)\n",
        "        cv2.putText(output_frame, actions[num], (0, 85+num*40), cv2.FONT_HERSHEY_SIMPLEX, 1, (255,255,255), 2, cv2.LINE_AA)\n",
        "        \n",
        "    return output_frame"
      ],
      "outputs": [],
      "execution_count": 98,
      "metadata": {},
      "id": "341ae825"
    },
    {
      "cell_type": "code",
      "source": [
        "# 1. New detection variables\n",
        "sequence = []\n",
        "sentence = []\n",
        "predictions = []\n",
        "threshold = 0.5\n",
        "\n",
        "cap = cv2.VideoCapture(0)\n",
        "# Set mediapipe model \n",
        "with mp_holistic.Holistic(min_detection_confidence=0.5, min_tracking_confidence=0.5) as holistic:\n",
        "    while cap.isOpened():\n",
        "\n",
        "        # Read feed\n",
        "        ret, frame = cap.read()\n",
        "\n",
        "        # Make detections\n",
        "        image, results = mediapipe_detection(frame, holistic)\n",
        "        print(results)\n",
        "        \n",
        "        # Draw landmarks\n",
        "        draw_styled_landmarks(image, results)\n",
        "        \n",
        "        # 2. Prediction logic\n",
        "        keypoints = extract_keypoints(results)\n",
        "        sequence.append(keypoints)\n",
        "        sequence = sequence[-30:]\n",
        "        \n",
        "\n",
        "        if len(sequence) == 30:\n",
        "            res = model.predict(np.expand_dims(sequence, axis=0))[0]\n",
        "            print(actions[np.argmax(res)])\n",
        "            predictions.append(np.argmax(res))\n",
        "            \n",
        "            \n",
        "        #3. Viz logic\n",
        "            if np.unique(predictions[-10:])[0]==np.argmax(res): \n",
        "                if res[np.argmax(res)] > threshold: \n",
        "                    \n",
        "                    if len(sentence) > 0: \n",
        "                        if actions[np.argmax(res)] !=sentence[-1]:\n",
        "                            sentence.append(actions[np.argmax(res)])\n",
        "                    else:\n",
        "                        sentence.append(actions[np.argmax(res)])\n",
        "\n",
        "            if len(sentence) > 5: \n",
        "                sentence = sentence[-5:]\n",
        "                \n",
        "         # Viz probabilities\n",
        "            image = prob_viz(res, actions, image, colors)\n",
        "        \n",
        "      \n",
        "        cv2.rectangle(image, (0,0), (640, 40), (245, 117, 16), -1)\n",
        "        cv2.putText(image, ' '.join(sentence), (10,30), \n",
        "                        cv2.FONT_HERSHEY_SIMPLEX, 1, (255, 255, 255), 2, cv2.LINE_AA)\n",
        "        \n",
        "        # Show to screen\n",
        "        \n",
        "        cv2.imshow('OpenCV Feed', image)\n",
        "        # set your desired size\n",
        "        cv2.resizeWindow('OpenCV Feed', 1280,720)\n",
        "        \n",
        "\n",
        "        # Break gracefully\n",
        "        if cv2.waitKey(10) & 0xFF == ord('q'):\n",
        "            break\n",
        "    cap.release()\n",
        "    cv2.destroyAllWindows()"
      ],
      "outputs": [
        {
          "output_type": "stream",
          "name": "stdout",
          "text": [
            "<class 'mediapipe.python.solution_base.SolutionOutputs'>\n",
            "<class 'mediapipe.python.solution_base.SolutionOutputs'>\n",
            "<class 'mediapipe.python.solution_base.SolutionOutputs'>\n",
            "<class 'mediapipe.python.solution_base.SolutionOutputs'>\n",
            "<class 'mediapipe.python.solution_base.SolutionOutputs'>\n",
            "<class 'mediapipe.python.solution_base.SolutionOutputs'>\n",
            "<class 'mediapipe.python.solution_base.SolutionOutputs'>\n",
            "<class 'mediapipe.python.solution_base.SolutionOutputs'>\n",
            "<class 'mediapipe.python.solution_base.SolutionOutputs'>\n",
            "<class 'mediapipe.python.solution_base.SolutionOutputs'>\n",
            "<class 'mediapipe.python.solution_base.SolutionOutputs'>\n",
            "<class 'mediapipe.python.solution_base.SolutionOutputs'>\n",
            "<class 'mediapipe.python.solution_base.SolutionOutputs'>\n",
            "<class 'mediapipe.python.solution_base.SolutionOutputs'>\n",
            "<class 'mediapipe.python.solution_base.SolutionOutputs'>\n",
            "<class 'mediapipe.python.solution_base.SolutionOutputs'>\n",
            "<class 'mediapipe.python.solution_base.SolutionOutputs'>\n",
            "<class 'mediapipe.python.solution_base.SolutionOutputs'>\n",
            "<class 'mediapipe.python.solution_base.SolutionOutputs'>\n",
            "<class 'mediapipe.python.solution_base.SolutionOutputs'>\n",
            "<class 'mediapipe.python.solution_base.SolutionOutputs'>\n",
            "<class 'mediapipe.python.solution_base.SolutionOutputs'>\n",
            "<class 'mediapipe.python.solution_base.SolutionOutputs'>\n",
            "<class 'mediapipe.python.solution_base.SolutionOutputs'>\n",
            "<class 'mediapipe.python.solution_base.SolutionOutputs'>\n",
            "<class 'mediapipe.python.solution_base.SolutionOutputs'>\n",
            "<class 'mediapipe.python.solution_base.SolutionOutputs'>\n",
            "<class 'mediapipe.python.solution_base.SolutionOutputs'>\n",
            "<class 'mediapipe.python.solution_base.SolutionOutputs'>\n",
            "<class 'mediapipe.python.solution_base.SolutionOutputs'>\n",
            "1/1 [==============================] - 0s 13ms/step\n",
            "punch\n",
            "<class 'mediapipe.python.solution_base.SolutionOutputs'>\n",
            "1/1 [==============================] - 0s 13ms/step\n",
            "punch\n",
            "<class 'mediapipe.python.solution_base.SolutionOutputs'>\n",
            "1/1 [==============================] - 0s 12ms/step\n",
            "punch\n",
            "<class 'mediapipe.python.solution_base.SolutionOutputs'>\n",
            "1/1 [==============================] - 0s 13ms/step\n",
            "punch\n",
            "<class 'mediapipe.python.solution_base.SolutionOutputs'>\n",
            "1/1 [==============================] - 0s 13ms/step\n",
            "punch\n",
            "<class 'mediapipe.python.solution_base.SolutionOutputs'>\n",
            "1/1 [==============================] - 0s 14ms/step\n",
            "punch\n",
            "<class 'mediapipe.python.solution_base.SolutionOutputs'>\n",
            "1/1 [==============================] - 0s 13ms/step\n",
            "punch\n",
            "<class 'mediapipe.python.solution_base.SolutionOutputs'>\n",
            "1/1 [==============================] - 0s 14ms/step\n",
            "punch\n",
            "<class 'mediapipe.python.solution_base.SolutionOutputs'>\n",
            "1/1 [==============================] - 0s 14ms/step\n",
            "punch\n",
            "<class 'mediapipe.python.solution_base.SolutionOutputs'>\n",
            "1/1 [==============================] - 0s 13ms/step\n",
            "punch\n",
            "<class 'mediapipe.python.solution_base.SolutionOutputs'>\n",
            "1/1 [==============================] - 0s 13ms/step\n",
            "punch\n",
            "<class 'mediapipe.python.solution_base.SolutionOutputs'>\n",
            "1/1 [==============================] - 0s 13ms/step\n",
            "punch\n",
            "<class 'mediapipe.python.solution_base.SolutionOutputs'>\n",
            "1/1 [==============================] - 0s 13ms/step\n",
            "punch\n",
            "<class 'mediapipe.python.solution_base.SolutionOutputs'>\n",
            "1/1 [==============================] - 0s 14ms/step\n",
            "punch\n",
            "<class 'mediapipe.python.solution_base.SolutionOutputs'>\n",
            "1/1 [==============================] - 0s 14ms/step\n",
            "punch\n",
            "<class 'mediapipe.python.solution_base.SolutionOutputs'>\n",
            "1/1 [==============================] - 0s 13ms/step\n",
            "punch\n",
            "<class 'mediapipe.python.solution_base.SolutionOutputs'>\n",
            "1/1 [==============================] - 0s 12ms/step\n",
            "punch\n",
            "<class 'mediapipe.python.solution_base.SolutionOutputs'>\n",
            "1/1 [==============================] - 0s 14ms/step\n",
            "punch\n",
            "<class 'mediapipe.python.solution_base.SolutionOutputs'>\n",
            "1/1 [==============================] - 0s 14ms/step\n",
            "punch\n",
            "<class 'mediapipe.python.solution_base.SolutionOutputs'>\n",
            "1/1 [==============================] - 0s 14ms/step\n",
            "punch\n",
            "<class 'mediapipe.python.solution_base.SolutionOutputs'>\n",
            "1/1 [==============================] - 0s 14ms/step\n",
            "punch\n",
            "<class 'mediapipe.python.solution_base.SolutionOutputs'>\n",
            "1/1 [==============================] - 0s 15ms/step\n",
            "punch\n",
            "<class 'mediapipe.python.solution_base.SolutionOutputs'>\n",
            "1/1 [==============================] - 0s 16ms/step\n",
            "punch\n",
            "<class 'mediapipe.python.solution_base.SolutionOutputs'>\n",
            "1/1 [==============================] - 0s 13ms/step\n",
            "punch\n",
            "<class 'mediapipe.python.solution_base.SolutionOutputs'>\n",
            "1/1 [==============================] - 0s 14ms/step\n",
            "punch\n",
            "<class 'mediapipe.python.solution_base.SolutionOutputs'>\n",
            "1/1 [==============================] - 0s 14ms/step\n",
            "punch\n",
            "<class 'mediapipe.python.solution_base.SolutionOutputs'>\n",
            "1/1 [==============================] - 0s 13ms/step\n",
            "punch\n",
            "<class 'mediapipe.python.solution_base.SolutionOutputs'>\n",
            "1/1 [==============================] - 0s 12ms/step\n",
            "punch\n",
            "<class 'mediapipe.python.solution_base.SolutionOutputs'>\n",
            "1/1 [==============================] - 0s 15ms/step\n",
            "punch\n",
            "<class 'mediapipe.python.solution_base.SolutionOutputs'>\n",
            "1/1 [==============================] - 0s 14ms/step\n",
            "punch\n",
            "<class 'mediapipe.python.solution_base.SolutionOutputs'>\n",
            "1/1 [==============================] - 0s 13ms/step\n",
            "punch\n",
            "<class 'mediapipe.python.solution_base.SolutionOutputs'>\n",
            "1/1 [==============================] - 0s 13ms/step\n",
            "punch\n",
            "<class 'mediapipe.python.solution_base.SolutionOutputs'>\n",
            "1/1 [==============================] - 0s 12ms/step\n",
            "punch\n",
            "<class 'mediapipe.python.solution_base.SolutionOutputs'>\n",
            "1/1 [==============================] - 0s 14ms/step\n",
            "punch\n",
            "<class 'mediapipe.python.solution_base.SolutionOutputs'>\n",
            "1/1 [==============================] - 0s 12ms/step\n",
            "punch\n",
            "<class 'mediapipe.python.solution_base.SolutionOutputs'>\n",
            "1/1 [==============================] - 0s 14ms/step\n",
            "punch\n",
            "<class 'mediapipe.python.solution_base.SolutionOutputs'>\n",
            "1/1 [==============================] - 0s 13ms/step\n",
            "punch\n",
            "<class 'mediapipe.python.solution_base.SolutionOutputs'>\n",
            "1/1 [==============================] - 0s 13ms/step\n",
            "punch\n",
            "<class 'mediapipe.python.solution_base.SolutionOutputs'>\n",
            "1/1 [==============================] - 0s 13ms/step\n",
            "punch\n",
            "<class 'mediapipe.python.solution_base.SolutionOutputs'>\n",
            "1/1 [==============================] - 0s 14ms/step\n",
            "punch\n",
            "<class 'mediapipe.python.solution_base.SolutionOutputs'>\n",
            "1/1 [==============================] - 0s 15ms/step\n",
            "punch\n",
            "<class 'mediapipe.python.solution_base.SolutionOutputs'>\n",
            "1/1 [==============================] - 0s 13ms/step\n",
            "punch\n",
            "<class 'mediapipe.python.solution_base.SolutionOutputs'>\n",
            "1/1 [==============================] - 0s 13ms/step\n",
            "punch\n",
            "<class 'mediapipe.python.solution_base.SolutionOutputs'>\n",
            "1/1 [==============================] - 0s 14ms/step\n",
            "punch\n",
            "<class 'mediapipe.python.solution_base.SolutionOutputs'>\n",
            "1/1 [==============================] - 0s 15ms/step\n",
            "punch\n",
            "<class 'mediapipe.python.solution_base.SolutionOutputs'>\n",
            "1/1 [==============================] - 0s 12ms/step\n",
            "punch\n",
            "<class 'mediapipe.python.solution_base.SolutionOutputs'>\n",
            "1/1 [==============================] - 0s 15ms/step\n",
            "punch\n",
            "<class 'mediapipe.python.solution_base.SolutionOutputs'>\n",
            "1/1 [==============================] - 0s 15ms/step\n",
            "punch\n",
            "<class 'mediapipe.python.solution_base.SolutionOutputs'>\n",
            "1/1 [==============================] - 0s 14ms/step\n",
            "punch\n",
            "<class 'mediapipe.python.solution_base.SolutionOutputs'>\n",
            "1/1 [==============================] - 0s 15ms/step\n",
            "punch\n"
          ]
        }
      ],
      "execution_count": 99,
      "metadata": {},
      "id": "ea356b9f"
    },
    {
      "cell_type": "code",
      "source": [],
      "outputs": [],
      "execution_count": null,
      "metadata": {},
      "id": "2016253e"
    },
    {
      "cell_type": "code",
      "source": [],
      "outputs": [],
      "execution_count": null,
      "metadata": {},
      "id": "20e8c624"
    },
    {
      "cell_type": "code",
      "source": [],
      "outputs": [],
      "execution_count": null,
      "metadata": {},
      "id": "60a4657e"
    },
    {
      "cell_type": "code",
      "source": [],
      "outputs": [],
      "execution_count": null,
      "metadata": {},
      "id": "edf28a65"
    },
    {
      "cell_type": "code",
      "source": [],
      "outputs": [],
      "execution_count": null,
      "metadata": {},
      "id": "9f758a93"
    },
    {
      "cell_type": "code",
      "source": [],
      "outputs": [],
      "execution_count": null,
      "metadata": {},
      "id": "9bc37660"
    },
    {
      "cell_type": "code",
      "source": [],
      "outputs": [],
      "execution_count": null,
      "metadata": {},
      "id": "58d8061c"
    },
    {
      "cell_type": "code",
      "source": [],
      "outputs": [],
      "execution_count": null,
      "metadata": {},
      "id": "6b85c491"
    },
    {
      "cell_type": "code",
      "source": [],
      "outputs": [],
      "execution_count": null,
      "metadata": {},
      "id": "c231bdd5"
    },
    {
      "cell_type": "code",
      "source": [],
      "outputs": [],
      "execution_count": null,
      "metadata": {},
      "id": "31ac2678"
    },
    {
      "cell_type": "code",
      "source": [],
      "outputs": [],
      "execution_count": null,
      "metadata": {},
      "id": "0bae36eb"
    },
    {
      "cell_type": "code",
      "source": [],
      "outputs": [],
      "execution_count": null,
      "metadata": {},
      "id": "c2068715"
    },
    {
      "cell_type": "code",
      "source": [],
      "outputs": [],
      "execution_count": null,
      "metadata": {},
      "id": "b60abeb5"
    },
    {
      "cell_type": "code",
      "source": [],
      "outputs": [],
      "execution_count": null,
      "metadata": {},
      "id": "eb6c6e82"
    },
    {
      "cell_type": "code",
      "source": [],
      "outputs": [],
      "execution_count": null,
      "metadata": {},
      "id": "ea41549a"
    }
  ],
  "metadata": {
    "kernelspec": {
      "display_name": "Python 3 (ipykernel)",
      "language": "python",
      "name": "python3"
    },
    "language_info": {
      "name": "python",
      "version": "3.10.6",
      "mimetype": "text/x-python",
      "codemirror_mode": {
        "name": "ipython",
        "version": 3
      },
      "pygments_lexer": "ipython3",
      "nbconvert_exporter": "python",
      "file_extension": ".py"
    },
    "nteract": {
      "version": "0.28.0"
    }
  },
  "nbformat": 4,
  "nbformat_minor": 5
}